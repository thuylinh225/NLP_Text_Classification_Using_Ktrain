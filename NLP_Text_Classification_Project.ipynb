{
  "metadata": {
    "accelerator": "GPU",
    "colab": {
      "provenance": [],
      "machine_shape": "hm",
      "gpuType": "T4",
      "toc_visible": true
    },
    "kernelspec": {
      "name": "python3",
      "display_name": "Python 3",
      "language": "python"
    },
    "widgets": {
      "application/vnd.jupyter.widget-state+json": {
        "56e1a8bdc5524df5a912e9dadec56845": {
          "model_module": "@jupyter-widgets/controls",
          "model_name": "HBoxModel",
          "model_module_version": "1.5.0",
          "state": {
            "_dom_classes": [],
            "_model_module": "@jupyter-widgets/controls",
            "_model_module_version": "1.5.0",
            "_model_name": "HBoxModel",
            "_view_count": null,
            "_view_module": "@jupyter-widgets/controls",
            "_view_module_version": "1.5.0",
            "_view_name": "HBoxView",
            "box_style": "",
            "children": [
              "IPY_MODEL_2256495157b6458ab707890af3be33be",
              "IPY_MODEL_89d141b4dd4d428fb134438684a9d884",
              "IPY_MODEL_7e8aeb0ce11841169d3b75de1fac671b"
            ],
            "layout": "IPY_MODEL_717f11316e9243c0a71e1affc9283886"
          }
        },
        "2256495157b6458ab707890af3be33be": {
          "model_module": "@jupyter-widgets/controls",
          "model_name": "HTMLModel",
          "model_module_version": "1.5.0",
          "state": {
            "_dom_classes": [],
            "_model_module": "@jupyter-widgets/controls",
            "_model_module_version": "1.5.0",
            "_model_name": "HTMLModel",
            "_view_count": null,
            "_view_module": "@jupyter-widgets/controls",
            "_view_module_version": "1.5.0",
            "_view_name": "HTMLView",
            "description": "",
            "description_tooltip": null,
            "layout": "IPY_MODEL_754678f74f11404797160547a8a55d5a",
            "placeholder": "​",
            "style": "IPY_MODEL_f26fb89f928043c29bbcd4c51a704b08",
            "value": "Downloading (…)lve/main/config.json: 100%"
          }
        },
        "89d141b4dd4d428fb134438684a9d884": {
          "model_module": "@jupyter-widgets/controls",
          "model_name": "FloatProgressModel",
          "model_module_version": "1.5.0",
          "state": {
            "_dom_classes": [],
            "_model_module": "@jupyter-widgets/controls",
            "_model_module_version": "1.5.0",
            "_model_name": "FloatProgressModel",
            "_view_count": null,
            "_view_module": "@jupyter-widgets/controls",
            "_view_module_version": "1.5.0",
            "_view_name": "ProgressView",
            "bar_style": "success",
            "description": "",
            "description_tooltip": null,
            "layout": "IPY_MODEL_24ab5c197d56499f80bad8e1f085c0b9",
            "max": 483,
            "min": 0,
            "orientation": "horizontal",
            "style": "IPY_MODEL_d780cfae1eff487eb23990391523920b",
            "value": 483
          }
        },
        "7e8aeb0ce11841169d3b75de1fac671b": {
          "model_module": "@jupyter-widgets/controls",
          "model_name": "HTMLModel",
          "model_module_version": "1.5.0",
          "state": {
            "_dom_classes": [],
            "_model_module": "@jupyter-widgets/controls",
            "_model_module_version": "1.5.0",
            "_model_name": "HTMLModel",
            "_view_count": null,
            "_view_module": "@jupyter-widgets/controls",
            "_view_module_version": "1.5.0",
            "_view_name": "HTMLView",
            "description": "",
            "description_tooltip": null,
            "layout": "IPY_MODEL_7e283ba3ece743b8813ba0b573f85988",
            "placeholder": "​",
            "style": "IPY_MODEL_09a2baaebf4543a39c19b4e19853b170",
            "value": " 483/483 [00:00&lt;00:00, 31.5kB/s]"
          }
        },
        "717f11316e9243c0a71e1affc9283886": {
          "model_module": "@jupyter-widgets/base",
          "model_name": "LayoutModel",
          "model_module_version": "1.2.0",
          "state": {
            "_model_module": "@jupyter-widgets/base",
            "_model_module_version": "1.2.0",
            "_model_name": "LayoutModel",
            "_view_count": null,
            "_view_module": "@jupyter-widgets/base",
            "_view_module_version": "1.2.0",
            "_view_name": "LayoutView",
            "align_content": null,
            "align_items": null,
            "align_self": null,
            "border": null,
            "bottom": null,
            "display": null,
            "flex": null,
            "flex_flow": null,
            "grid_area": null,
            "grid_auto_columns": null,
            "grid_auto_flow": null,
            "grid_auto_rows": null,
            "grid_column": null,
            "grid_gap": null,
            "grid_row": null,
            "grid_template_areas": null,
            "grid_template_columns": null,
            "grid_template_rows": null,
            "height": null,
            "justify_content": null,
            "justify_items": null,
            "left": null,
            "margin": null,
            "max_height": null,
            "max_width": null,
            "min_height": null,
            "min_width": null,
            "object_fit": null,
            "object_position": null,
            "order": null,
            "overflow": null,
            "overflow_x": null,
            "overflow_y": null,
            "padding": null,
            "right": null,
            "top": null,
            "visibility": null,
            "width": null
          }
        },
        "754678f74f11404797160547a8a55d5a": {
          "model_module": "@jupyter-widgets/base",
          "model_name": "LayoutModel",
          "model_module_version": "1.2.0",
          "state": {
            "_model_module": "@jupyter-widgets/base",
            "_model_module_version": "1.2.0",
            "_model_name": "LayoutModel",
            "_view_count": null,
            "_view_module": "@jupyter-widgets/base",
            "_view_module_version": "1.2.0",
            "_view_name": "LayoutView",
            "align_content": null,
            "align_items": null,
            "align_self": null,
            "border": null,
            "bottom": null,
            "display": null,
            "flex": null,
            "flex_flow": null,
            "grid_area": null,
            "grid_auto_columns": null,
            "grid_auto_flow": null,
            "grid_auto_rows": null,
            "grid_column": null,
            "grid_gap": null,
            "grid_row": null,
            "grid_template_areas": null,
            "grid_template_columns": null,
            "grid_template_rows": null,
            "height": null,
            "justify_content": null,
            "justify_items": null,
            "left": null,
            "margin": null,
            "max_height": null,
            "max_width": null,
            "min_height": null,
            "min_width": null,
            "object_fit": null,
            "object_position": null,
            "order": null,
            "overflow": null,
            "overflow_x": null,
            "overflow_y": null,
            "padding": null,
            "right": null,
            "top": null,
            "visibility": null,
            "width": null
          }
        },
        "f26fb89f928043c29bbcd4c51a704b08": {
          "model_module": "@jupyter-widgets/controls",
          "model_name": "DescriptionStyleModel",
          "model_module_version": "1.5.0",
          "state": {
            "_model_module": "@jupyter-widgets/controls",
            "_model_module_version": "1.5.0",
            "_model_name": "DescriptionStyleModel",
            "_view_count": null,
            "_view_module": "@jupyter-widgets/base",
            "_view_module_version": "1.2.0",
            "_view_name": "StyleView",
            "description_width": ""
          }
        },
        "24ab5c197d56499f80bad8e1f085c0b9": {
          "model_module": "@jupyter-widgets/base",
          "model_name": "LayoutModel",
          "model_module_version": "1.2.0",
          "state": {
            "_model_module": "@jupyter-widgets/base",
            "_model_module_version": "1.2.0",
            "_model_name": "LayoutModel",
            "_view_count": null,
            "_view_module": "@jupyter-widgets/base",
            "_view_module_version": "1.2.0",
            "_view_name": "LayoutView",
            "align_content": null,
            "align_items": null,
            "align_self": null,
            "border": null,
            "bottom": null,
            "display": null,
            "flex": null,
            "flex_flow": null,
            "grid_area": null,
            "grid_auto_columns": null,
            "grid_auto_flow": null,
            "grid_auto_rows": null,
            "grid_column": null,
            "grid_gap": null,
            "grid_row": null,
            "grid_template_areas": null,
            "grid_template_columns": null,
            "grid_template_rows": null,
            "height": null,
            "justify_content": null,
            "justify_items": null,
            "left": null,
            "margin": null,
            "max_height": null,
            "max_width": null,
            "min_height": null,
            "min_width": null,
            "object_fit": null,
            "object_position": null,
            "order": null,
            "overflow": null,
            "overflow_x": null,
            "overflow_y": null,
            "padding": null,
            "right": null,
            "top": null,
            "visibility": null,
            "width": null
          }
        },
        "d780cfae1eff487eb23990391523920b": {
          "model_module": "@jupyter-widgets/controls",
          "model_name": "ProgressStyleModel",
          "model_module_version": "1.5.0",
          "state": {
            "_model_module": "@jupyter-widgets/controls",
            "_model_module_version": "1.5.0",
            "_model_name": "ProgressStyleModel",
            "_view_count": null,
            "_view_module": "@jupyter-widgets/base",
            "_view_module_version": "1.2.0",
            "_view_name": "StyleView",
            "bar_color": null,
            "description_width": ""
          }
        },
        "7e283ba3ece743b8813ba0b573f85988": {
          "model_module": "@jupyter-widgets/base",
          "model_name": "LayoutModel",
          "model_module_version": "1.2.0",
          "state": {
            "_model_module": "@jupyter-widgets/base",
            "_model_module_version": "1.2.0",
            "_model_name": "LayoutModel",
            "_view_count": null,
            "_view_module": "@jupyter-widgets/base",
            "_view_module_version": "1.2.0",
            "_view_name": "LayoutView",
            "align_content": null,
            "align_items": null,
            "align_self": null,
            "border": null,
            "bottom": null,
            "display": null,
            "flex": null,
            "flex_flow": null,
            "grid_area": null,
            "grid_auto_columns": null,
            "grid_auto_flow": null,
            "grid_auto_rows": null,
            "grid_column": null,
            "grid_gap": null,
            "grid_row": null,
            "grid_template_areas": null,
            "grid_template_columns": null,
            "grid_template_rows": null,
            "height": null,
            "justify_content": null,
            "justify_items": null,
            "left": null,
            "margin": null,
            "max_height": null,
            "max_width": null,
            "min_height": null,
            "min_width": null,
            "object_fit": null,
            "object_position": null,
            "order": null,
            "overflow": null,
            "overflow_x": null,
            "overflow_y": null,
            "padding": null,
            "right": null,
            "top": null,
            "visibility": null,
            "width": null
          }
        },
        "09a2baaebf4543a39c19b4e19853b170": {
          "model_module": "@jupyter-widgets/controls",
          "model_name": "DescriptionStyleModel",
          "model_module_version": "1.5.0",
          "state": {
            "_model_module": "@jupyter-widgets/controls",
            "_model_module_version": "1.5.0",
            "_model_name": "DescriptionStyleModel",
            "_view_count": null,
            "_view_module": "@jupyter-widgets/base",
            "_view_module_version": "1.2.0",
            "_view_name": "StyleView",
            "description_width": ""
          }
        },
        "3d1b120385e0497c922fa2a5335e36f6": {
          "model_module": "@jupyter-widgets/controls",
          "model_name": "HBoxModel",
          "model_module_version": "1.5.0",
          "state": {
            "_dom_classes": [],
            "_model_module": "@jupyter-widgets/controls",
            "_model_module_version": "1.5.0",
            "_model_name": "HBoxModel",
            "_view_count": null,
            "_view_module": "@jupyter-widgets/controls",
            "_view_module_version": "1.5.0",
            "_view_name": "HBoxView",
            "box_style": "",
            "children": [
              "IPY_MODEL_00566ddaacc2465584c6c92d679fa0bf",
              "IPY_MODEL_60c07cd5b59a438aaeb6fbcc2505e184",
              "IPY_MODEL_19fccdfbd16441bc8f1ed38493460725"
            ],
            "layout": "IPY_MODEL_c01463000ecf457499cb5b8a0c1075af"
          }
        },
        "00566ddaacc2465584c6c92d679fa0bf": {
          "model_module": "@jupyter-widgets/controls",
          "model_name": "HTMLModel",
          "model_module_version": "1.5.0",
          "state": {
            "_dom_classes": [],
            "_model_module": "@jupyter-widgets/controls",
            "_model_module_version": "1.5.0",
            "_model_name": "HTMLModel",
            "_view_count": null,
            "_view_module": "@jupyter-widgets/controls",
            "_view_module_version": "1.5.0",
            "_view_name": "HTMLView",
            "description": "",
            "description_tooltip": null,
            "layout": "IPY_MODEL_fd783429a79a41538a107bc26ca5d9e6",
            "placeholder": "​",
            "style": "IPY_MODEL_a84bb6e6d69f4634868333fda29cb96f",
            "value": "Downloading tf_model.h5: 100%"
          }
        },
        "60c07cd5b59a438aaeb6fbcc2505e184": {
          "model_module": "@jupyter-widgets/controls",
          "model_name": "FloatProgressModel",
          "model_module_version": "1.5.0",
          "state": {
            "_dom_classes": [],
            "_model_module": "@jupyter-widgets/controls",
            "_model_module_version": "1.5.0",
            "_model_name": "FloatProgressModel",
            "_view_count": null,
            "_view_module": "@jupyter-widgets/controls",
            "_view_module_version": "1.5.0",
            "_view_name": "ProgressView",
            "bar_style": "success",
            "description": "",
            "description_tooltip": null,
            "layout": "IPY_MODEL_2692f60d9b2d4b31801d45ccf8e2f1da",
            "max": 363423424,
            "min": 0,
            "orientation": "horizontal",
            "style": "IPY_MODEL_d254f50f375c4728b5ff3b9ab83e64c0",
            "value": 363423424
          }
        },
        "19fccdfbd16441bc8f1ed38493460725": {
          "model_module": "@jupyter-widgets/controls",
          "model_name": "HTMLModel",
          "model_module_version": "1.5.0",
          "state": {
            "_dom_classes": [],
            "_model_module": "@jupyter-widgets/controls",
            "_model_module_version": "1.5.0",
            "_model_name": "HTMLModel",
            "_view_count": null,
            "_view_module": "@jupyter-widgets/controls",
            "_view_module_version": "1.5.0",
            "_view_name": "HTMLView",
            "description": "",
            "description_tooltip": null,
            "layout": "IPY_MODEL_488b772203a04c0bbafe14ea9e59e773",
            "placeholder": "​",
            "style": "IPY_MODEL_78595337d90449e9ae72957b11b23776",
            "value": " 363M/363M [00:01&lt;00:00, 321MB/s]"
          }
        },
        "c01463000ecf457499cb5b8a0c1075af": {
          "model_module": "@jupyter-widgets/base",
          "model_name": "LayoutModel",
          "model_module_version": "1.2.0",
          "state": {
            "_model_module": "@jupyter-widgets/base",
            "_model_module_version": "1.2.0",
            "_model_name": "LayoutModel",
            "_view_count": null,
            "_view_module": "@jupyter-widgets/base",
            "_view_module_version": "1.2.0",
            "_view_name": "LayoutView",
            "align_content": null,
            "align_items": null,
            "align_self": null,
            "border": null,
            "bottom": null,
            "display": null,
            "flex": null,
            "flex_flow": null,
            "grid_area": null,
            "grid_auto_columns": null,
            "grid_auto_flow": null,
            "grid_auto_rows": null,
            "grid_column": null,
            "grid_gap": null,
            "grid_row": null,
            "grid_template_areas": null,
            "grid_template_columns": null,
            "grid_template_rows": null,
            "height": null,
            "justify_content": null,
            "justify_items": null,
            "left": null,
            "margin": null,
            "max_height": null,
            "max_width": null,
            "min_height": null,
            "min_width": null,
            "object_fit": null,
            "object_position": null,
            "order": null,
            "overflow": null,
            "overflow_x": null,
            "overflow_y": null,
            "padding": null,
            "right": null,
            "top": null,
            "visibility": null,
            "width": null
          }
        },
        "fd783429a79a41538a107bc26ca5d9e6": {
          "model_module": "@jupyter-widgets/base",
          "model_name": "LayoutModel",
          "model_module_version": "1.2.0",
          "state": {
            "_model_module": "@jupyter-widgets/base",
            "_model_module_version": "1.2.0",
            "_model_name": "LayoutModel",
            "_view_count": null,
            "_view_module": "@jupyter-widgets/base",
            "_view_module_version": "1.2.0",
            "_view_name": "LayoutView",
            "align_content": null,
            "align_items": null,
            "align_self": null,
            "border": null,
            "bottom": null,
            "display": null,
            "flex": null,
            "flex_flow": null,
            "grid_area": null,
            "grid_auto_columns": null,
            "grid_auto_flow": null,
            "grid_auto_rows": null,
            "grid_column": null,
            "grid_gap": null,
            "grid_row": null,
            "grid_template_areas": null,
            "grid_template_columns": null,
            "grid_template_rows": null,
            "height": null,
            "justify_content": null,
            "justify_items": null,
            "left": null,
            "margin": null,
            "max_height": null,
            "max_width": null,
            "min_height": null,
            "min_width": null,
            "object_fit": null,
            "object_position": null,
            "order": null,
            "overflow": null,
            "overflow_x": null,
            "overflow_y": null,
            "padding": null,
            "right": null,
            "top": null,
            "visibility": null,
            "width": null
          }
        },
        "a84bb6e6d69f4634868333fda29cb96f": {
          "model_module": "@jupyter-widgets/controls",
          "model_name": "DescriptionStyleModel",
          "model_module_version": "1.5.0",
          "state": {
            "_model_module": "@jupyter-widgets/controls",
            "_model_module_version": "1.5.0",
            "_model_name": "DescriptionStyleModel",
            "_view_count": null,
            "_view_module": "@jupyter-widgets/base",
            "_view_module_version": "1.2.0",
            "_view_name": "StyleView",
            "description_width": ""
          }
        },
        "2692f60d9b2d4b31801d45ccf8e2f1da": {
          "model_module": "@jupyter-widgets/base",
          "model_name": "LayoutModel",
          "model_module_version": "1.2.0",
          "state": {
            "_model_module": "@jupyter-widgets/base",
            "_model_module_version": "1.2.0",
            "_model_name": "LayoutModel",
            "_view_count": null,
            "_view_module": "@jupyter-widgets/base",
            "_view_module_version": "1.2.0",
            "_view_name": "LayoutView",
            "align_content": null,
            "align_items": null,
            "align_self": null,
            "border": null,
            "bottom": null,
            "display": null,
            "flex": null,
            "flex_flow": null,
            "grid_area": null,
            "grid_auto_columns": null,
            "grid_auto_flow": null,
            "grid_auto_rows": null,
            "grid_column": null,
            "grid_gap": null,
            "grid_row": null,
            "grid_template_areas": null,
            "grid_template_columns": null,
            "grid_template_rows": null,
            "height": null,
            "justify_content": null,
            "justify_items": null,
            "left": null,
            "margin": null,
            "max_height": null,
            "max_width": null,
            "min_height": null,
            "min_width": null,
            "object_fit": null,
            "object_position": null,
            "order": null,
            "overflow": null,
            "overflow_x": null,
            "overflow_y": null,
            "padding": null,
            "right": null,
            "top": null,
            "visibility": null,
            "width": null
          }
        },
        "d254f50f375c4728b5ff3b9ab83e64c0": {
          "model_module": "@jupyter-widgets/controls",
          "model_name": "ProgressStyleModel",
          "model_module_version": "1.5.0",
          "state": {
            "_model_module": "@jupyter-widgets/controls",
            "_model_module_version": "1.5.0",
            "_model_name": "ProgressStyleModel",
            "_view_count": null,
            "_view_module": "@jupyter-widgets/base",
            "_view_module_version": "1.2.0",
            "_view_name": "StyleView",
            "bar_color": null,
            "description_width": ""
          }
        },
        "488b772203a04c0bbafe14ea9e59e773": {
          "model_module": "@jupyter-widgets/base",
          "model_name": "LayoutModel",
          "model_module_version": "1.2.0",
          "state": {
            "_model_module": "@jupyter-widgets/base",
            "_model_module_version": "1.2.0",
            "_model_name": "LayoutModel",
            "_view_count": null,
            "_view_module": "@jupyter-widgets/base",
            "_view_module_version": "1.2.0",
            "_view_name": "LayoutView",
            "align_content": null,
            "align_items": null,
            "align_self": null,
            "border": null,
            "bottom": null,
            "display": null,
            "flex": null,
            "flex_flow": null,
            "grid_area": null,
            "grid_auto_columns": null,
            "grid_auto_flow": null,
            "grid_auto_rows": null,
            "grid_column": null,
            "grid_gap": null,
            "grid_row": null,
            "grid_template_areas": null,
            "grid_template_columns": null,
            "grid_template_rows": null,
            "height": null,
            "justify_content": null,
            "justify_items": null,
            "left": null,
            "margin": null,
            "max_height": null,
            "max_width": null,
            "min_height": null,
            "min_width": null,
            "object_fit": null,
            "object_position": null,
            "order": null,
            "overflow": null,
            "overflow_x": null,
            "overflow_y": null,
            "padding": null,
            "right": null,
            "top": null,
            "visibility": null,
            "width": null
          }
        },
        "78595337d90449e9ae72957b11b23776": {
          "model_module": "@jupyter-widgets/controls",
          "model_name": "DescriptionStyleModel",
          "model_module_version": "1.5.0",
          "state": {
            "_model_module": "@jupyter-widgets/controls",
            "_model_module_version": "1.5.0",
            "_model_name": "DescriptionStyleModel",
            "_view_count": null,
            "_view_module": "@jupyter-widgets/base",
            "_view_module_version": "1.2.0",
            "_view_name": "StyleView",
            "description_width": ""
          }
        },
        "2a51b3e1e0f8412283f5c399c9569d6f": {
          "model_module": "@jupyter-widgets/controls",
          "model_name": "HBoxModel",
          "model_module_version": "1.5.0",
          "state": {
            "_dom_classes": [],
            "_model_module": "@jupyter-widgets/controls",
            "_model_module_version": "1.5.0",
            "_model_name": "HBoxModel",
            "_view_count": null,
            "_view_module": "@jupyter-widgets/controls",
            "_view_module_version": "1.5.0",
            "_view_name": "HBoxView",
            "box_style": "",
            "children": [
              "IPY_MODEL_bc8e4fab74484993ae0315c586c0f44f",
              "IPY_MODEL_3d1aef3bb695453f951cb7891e3e0303",
              "IPY_MODEL_0df23131ade748afa8a9353e70a92655"
            ],
            "layout": "IPY_MODEL_27cbf69904114eac944f48dacf40c5ce"
          }
        },
        "bc8e4fab74484993ae0315c586c0f44f": {
          "model_module": "@jupyter-widgets/controls",
          "model_name": "HTMLModel",
          "model_module_version": "1.5.0",
          "state": {
            "_dom_classes": [],
            "_model_module": "@jupyter-widgets/controls",
            "_model_module_version": "1.5.0",
            "_model_name": "HTMLModel",
            "_view_count": null,
            "_view_module": "@jupyter-widgets/controls",
            "_view_module_version": "1.5.0",
            "_view_name": "HTMLView",
            "description": "",
            "description_tooltip": null,
            "layout": "IPY_MODEL_7a35bc79f9404a84bd13a51351373982",
            "placeholder": "​",
            "style": "IPY_MODEL_a4eeba0301c64d0a8b48416041354fdc",
            "value": "Downloading (…)okenizer_config.json: 100%"
          }
        },
        "3d1aef3bb695453f951cb7891e3e0303": {
          "model_module": "@jupyter-widgets/controls",
          "model_name": "FloatProgressModel",
          "model_module_version": "1.5.0",
          "state": {
            "_dom_classes": [],
            "_model_module": "@jupyter-widgets/controls",
            "_model_module_version": "1.5.0",
            "_model_name": "FloatProgressModel",
            "_view_count": null,
            "_view_module": "@jupyter-widgets/controls",
            "_view_module_version": "1.5.0",
            "_view_name": "ProgressView",
            "bar_style": "success",
            "description": "",
            "description_tooltip": null,
            "layout": "IPY_MODEL_a660eed118cf4b02ae27ee640a35c162",
            "max": 28,
            "min": 0,
            "orientation": "horizontal",
            "style": "IPY_MODEL_5c3570b35f2045349467caa2f49f4bee",
            "value": 28
          }
        },
        "0df23131ade748afa8a9353e70a92655": {
          "model_module": "@jupyter-widgets/controls",
          "model_name": "HTMLModel",
          "model_module_version": "1.5.0",
          "state": {
            "_dom_classes": [],
            "_model_module": "@jupyter-widgets/controls",
            "_model_module_version": "1.5.0",
            "_model_name": "HTMLModel",
            "_view_count": null,
            "_view_module": "@jupyter-widgets/controls",
            "_view_module_version": "1.5.0",
            "_view_name": "HTMLView",
            "description": "",
            "description_tooltip": null,
            "layout": "IPY_MODEL_fb58753112a44b8c90981266d676eafe",
            "placeholder": "​",
            "style": "IPY_MODEL_a2b4cd35c8784feeb2faf2c8c6c4fe71",
            "value": " 28.0/28.0 [00:00&lt;00:00, 1.21kB/s]"
          }
        },
        "27cbf69904114eac944f48dacf40c5ce": {
          "model_module": "@jupyter-widgets/base",
          "model_name": "LayoutModel",
          "model_module_version": "1.2.0",
          "state": {
            "_model_module": "@jupyter-widgets/base",
            "_model_module_version": "1.2.0",
            "_model_name": "LayoutModel",
            "_view_count": null,
            "_view_module": "@jupyter-widgets/base",
            "_view_module_version": "1.2.0",
            "_view_name": "LayoutView",
            "align_content": null,
            "align_items": null,
            "align_self": null,
            "border": null,
            "bottom": null,
            "display": null,
            "flex": null,
            "flex_flow": null,
            "grid_area": null,
            "grid_auto_columns": null,
            "grid_auto_flow": null,
            "grid_auto_rows": null,
            "grid_column": null,
            "grid_gap": null,
            "grid_row": null,
            "grid_template_areas": null,
            "grid_template_columns": null,
            "grid_template_rows": null,
            "height": null,
            "justify_content": null,
            "justify_items": null,
            "left": null,
            "margin": null,
            "max_height": null,
            "max_width": null,
            "min_height": null,
            "min_width": null,
            "object_fit": null,
            "object_position": null,
            "order": null,
            "overflow": null,
            "overflow_x": null,
            "overflow_y": null,
            "padding": null,
            "right": null,
            "top": null,
            "visibility": null,
            "width": null
          }
        },
        "7a35bc79f9404a84bd13a51351373982": {
          "model_module": "@jupyter-widgets/base",
          "model_name": "LayoutModel",
          "model_module_version": "1.2.0",
          "state": {
            "_model_module": "@jupyter-widgets/base",
            "_model_module_version": "1.2.0",
            "_model_name": "LayoutModel",
            "_view_count": null,
            "_view_module": "@jupyter-widgets/base",
            "_view_module_version": "1.2.0",
            "_view_name": "LayoutView",
            "align_content": null,
            "align_items": null,
            "align_self": null,
            "border": null,
            "bottom": null,
            "display": null,
            "flex": null,
            "flex_flow": null,
            "grid_area": null,
            "grid_auto_columns": null,
            "grid_auto_flow": null,
            "grid_auto_rows": null,
            "grid_column": null,
            "grid_gap": null,
            "grid_row": null,
            "grid_template_areas": null,
            "grid_template_columns": null,
            "grid_template_rows": null,
            "height": null,
            "justify_content": null,
            "justify_items": null,
            "left": null,
            "margin": null,
            "max_height": null,
            "max_width": null,
            "min_height": null,
            "min_width": null,
            "object_fit": null,
            "object_position": null,
            "order": null,
            "overflow": null,
            "overflow_x": null,
            "overflow_y": null,
            "padding": null,
            "right": null,
            "top": null,
            "visibility": null,
            "width": null
          }
        },
        "a4eeba0301c64d0a8b48416041354fdc": {
          "model_module": "@jupyter-widgets/controls",
          "model_name": "DescriptionStyleModel",
          "model_module_version": "1.5.0",
          "state": {
            "_model_module": "@jupyter-widgets/controls",
            "_model_module_version": "1.5.0",
            "_model_name": "DescriptionStyleModel",
            "_view_count": null,
            "_view_module": "@jupyter-widgets/base",
            "_view_module_version": "1.2.0",
            "_view_name": "StyleView",
            "description_width": ""
          }
        },
        "a660eed118cf4b02ae27ee640a35c162": {
          "model_module": "@jupyter-widgets/base",
          "model_name": "LayoutModel",
          "model_module_version": "1.2.0",
          "state": {
            "_model_module": "@jupyter-widgets/base",
            "_model_module_version": "1.2.0",
            "_model_name": "LayoutModel",
            "_view_count": null,
            "_view_module": "@jupyter-widgets/base",
            "_view_module_version": "1.2.0",
            "_view_name": "LayoutView",
            "align_content": null,
            "align_items": null,
            "align_self": null,
            "border": null,
            "bottom": null,
            "display": null,
            "flex": null,
            "flex_flow": null,
            "grid_area": null,
            "grid_auto_columns": null,
            "grid_auto_flow": null,
            "grid_auto_rows": null,
            "grid_column": null,
            "grid_gap": null,
            "grid_row": null,
            "grid_template_areas": null,
            "grid_template_columns": null,
            "grid_template_rows": null,
            "height": null,
            "justify_content": null,
            "justify_items": null,
            "left": null,
            "margin": null,
            "max_height": null,
            "max_width": null,
            "min_height": null,
            "min_width": null,
            "object_fit": null,
            "object_position": null,
            "order": null,
            "overflow": null,
            "overflow_x": null,
            "overflow_y": null,
            "padding": null,
            "right": null,
            "top": null,
            "visibility": null,
            "width": null
          }
        },
        "5c3570b35f2045349467caa2f49f4bee": {
          "model_module": "@jupyter-widgets/controls",
          "model_name": "ProgressStyleModel",
          "model_module_version": "1.5.0",
          "state": {
            "_model_module": "@jupyter-widgets/controls",
            "_model_module_version": "1.5.0",
            "_model_name": "ProgressStyleModel",
            "_view_count": null,
            "_view_module": "@jupyter-widgets/base",
            "_view_module_version": "1.2.0",
            "_view_name": "StyleView",
            "bar_color": null,
            "description_width": ""
          }
        },
        "fb58753112a44b8c90981266d676eafe": {
          "model_module": "@jupyter-widgets/base",
          "model_name": "LayoutModel",
          "model_module_version": "1.2.0",
          "state": {
            "_model_module": "@jupyter-widgets/base",
            "_model_module_version": "1.2.0",
            "_model_name": "LayoutModel",
            "_view_count": null,
            "_view_module": "@jupyter-widgets/base",
            "_view_module_version": "1.2.0",
            "_view_name": "LayoutView",
            "align_content": null,
            "align_items": null,
            "align_self": null,
            "border": null,
            "bottom": null,
            "display": null,
            "flex": null,
            "flex_flow": null,
            "grid_area": null,
            "grid_auto_columns": null,
            "grid_auto_flow": null,
            "grid_auto_rows": null,
            "grid_column": null,
            "grid_gap": null,
            "grid_row": null,
            "grid_template_areas": null,
            "grid_template_columns": null,
            "grid_template_rows": null,
            "height": null,
            "justify_content": null,
            "justify_items": null,
            "left": null,
            "margin": null,
            "max_height": null,
            "max_width": null,
            "min_height": null,
            "min_width": null,
            "object_fit": null,
            "object_position": null,
            "order": null,
            "overflow": null,
            "overflow_x": null,
            "overflow_y": null,
            "padding": null,
            "right": null,
            "top": null,
            "visibility": null,
            "width": null
          }
        },
        "a2b4cd35c8784feeb2faf2c8c6c4fe71": {
          "model_module": "@jupyter-widgets/controls",
          "model_name": "DescriptionStyleModel",
          "model_module_version": "1.5.0",
          "state": {
            "_model_module": "@jupyter-widgets/controls",
            "_model_module_version": "1.5.0",
            "_model_name": "DescriptionStyleModel",
            "_view_count": null,
            "_view_module": "@jupyter-widgets/base",
            "_view_module_version": "1.2.0",
            "_view_name": "StyleView",
            "description_width": ""
          }
        },
        "96e5ed38d0584ea0bcec4908eac3b06b": {
          "model_module": "@jupyter-widgets/controls",
          "model_name": "HBoxModel",
          "model_module_version": "1.5.0",
          "state": {
            "_dom_classes": [],
            "_model_module": "@jupyter-widgets/controls",
            "_model_module_version": "1.5.0",
            "_model_name": "HBoxModel",
            "_view_count": null,
            "_view_module": "@jupyter-widgets/controls",
            "_view_module_version": "1.5.0",
            "_view_name": "HBoxView",
            "box_style": "",
            "children": [
              "IPY_MODEL_3d7a16c6f5f448c2b691633016b02975",
              "IPY_MODEL_60b566d2b9c245698b026a1108c569ce",
              "IPY_MODEL_6f4b5c8a160948dd8e90e976797ae7fa"
            ],
            "layout": "IPY_MODEL_bdf6496d8dfe455fa993b76d531b2c16"
          }
        },
        "3d7a16c6f5f448c2b691633016b02975": {
          "model_module": "@jupyter-widgets/controls",
          "model_name": "HTMLModel",
          "model_module_version": "1.5.0",
          "state": {
            "_dom_classes": [],
            "_model_module": "@jupyter-widgets/controls",
            "_model_module_version": "1.5.0",
            "_model_name": "HTMLModel",
            "_view_count": null,
            "_view_module": "@jupyter-widgets/controls",
            "_view_module_version": "1.5.0",
            "_view_name": "HTMLView",
            "description": "",
            "description_tooltip": null,
            "layout": "IPY_MODEL_f00d141736ca4daca960451c17bb3d3e",
            "placeholder": "​",
            "style": "IPY_MODEL_af158506c638437689eaa9baf578b747",
            "value": "Downloading (…)solve/main/vocab.txt: 100%"
          }
        },
        "60b566d2b9c245698b026a1108c569ce": {
          "model_module": "@jupyter-widgets/controls",
          "model_name": "FloatProgressModel",
          "model_module_version": "1.5.0",
          "state": {
            "_dom_classes": [],
            "_model_module": "@jupyter-widgets/controls",
            "_model_module_version": "1.5.0",
            "_model_name": "FloatProgressModel",
            "_view_count": null,
            "_view_module": "@jupyter-widgets/controls",
            "_view_module_version": "1.5.0",
            "_view_name": "ProgressView",
            "bar_style": "success",
            "description": "",
            "description_tooltip": null,
            "layout": "IPY_MODEL_7ed726cfbe9e4c158222ae112a482f11",
            "max": 231508,
            "min": 0,
            "orientation": "horizontal",
            "style": "IPY_MODEL_006f1391eeb34773af433fb9b7ba8b15",
            "value": 231508
          }
        },
        "6f4b5c8a160948dd8e90e976797ae7fa": {
          "model_module": "@jupyter-widgets/controls",
          "model_name": "HTMLModel",
          "model_module_version": "1.5.0",
          "state": {
            "_dom_classes": [],
            "_model_module": "@jupyter-widgets/controls",
            "_model_module_version": "1.5.0",
            "_model_name": "HTMLModel",
            "_view_count": null,
            "_view_module": "@jupyter-widgets/controls",
            "_view_module_version": "1.5.0",
            "_view_name": "HTMLView",
            "description": "",
            "description_tooltip": null,
            "layout": "IPY_MODEL_e90c41b5ad6a425ea7fdfedf7059ffb5",
            "placeholder": "​",
            "style": "IPY_MODEL_d7d55b7ba5b84f1aa5975bc299094273",
            "value": " 232k/232k [00:00&lt;00:00, 554kB/s]"
          }
        },
        "bdf6496d8dfe455fa993b76d531b2c16": {
          "model_module": "@jupyter-widgets/base",
          "model_name": "LayoutModel",
          "model_module_version": "1.2.0",
          "state": {
            "_model_module": "@jupyter-widgets/base",
            "_model_module_version": "1.2.0",
            "_model_name": "LayoutModel",
            "_view_count": null,
            "_view_module": "@jupyter-widgets/base",
            "_view_module_version": "1.2.0",
            "_view_name": "LayoutView",
            "align_content": null,
            "align_items": null,
            "align_self": null,
            "border": null,
            "bottom": null,
            "display": null,
            "flex": null,
            "flex_flow": null,
            "grid_area": null,
            "grid_auto_columns": null,
            "grid_auto_flow": null,
            "grid_auto_rows": null,
            "grid_column": null,
            "grid_gap": null,
            "grid_row": null,
            "grid_template_areas": null,
            "grid_template_columns": null,
            "grid_template_rows": null,
            "height": null,
            "justify_content": null,
            "justify_items": null,
            "left": null,
            "margin": null,
            "max_height": null,
            "max_width": null,
            "min_height": null,
            "min_width": null,
            "object_fit": null,
            "object_position": null,
            "order": null,
            "overflow": null,
            "overflow_x": null,
            "overflow_y": null,
            "padding": null,
            "right": null,
            "top": null,
            "visibility": null,
            "width": null
          }
        },
        "f00d141736ca4daca960451c17bb3d3e": {
          "model_module": "@jupyter-widgets/base",
          "model_name": "LayoutModel",
          "model_module_version": "1.2.0",
          "state": {
            "_model_module": "@jupyter-widgets/base",
            "_model_module_version": "1.2.0",
            "_model_name": "LayoutModel",
            "_view_count": null,
            "_view_module": "@jupyter-widgets/base",
            "_view_module_version": "1.2.0",
            "_view_name": "LayoutView",
            "align_content": null,
            "align_items": null,
            "align_self": null,
            "border": null,
            "bottom": null,
            "display": null,
            "flex": null,
            "flex_flow": null,
            "grid_area": null,
            "grid_auto_columns": null,
            "grid_auto_flow": null,
            "grid_auto_rows": null,
            "grid_column": null,
            "grid_gap": null,
            "grid_row": null,
            "grid_template_areas": null,
            "grid_template_columns": null,
            "grid_template_rows": null,
            "height": null,
            "justify_content": null,
            "justify_items": null,
            "left": null,
            "margin": null,
            "max_height": null,
            "max_width": null,
            "min_height": null,
            "min_width": null,
            "object_fit": null,
            "object_position": null,
            "order": null,
            "overflow": null,
            "overflow_x": null,
            "overflow_y": null,
            "padding": null,
            "right": null,
            "top": null,
            "visibility": null,
            "width": null
          }
        },
        "af158506c638437689eaa9baf578b747": {
          "model_module": "@jupyter-widgets/controls",
          "model_name": "DescriptionStyleModel",
          "model_module_version": "1.5.0",
          "state": {
            "_model_module": "@jupyter-widgets/controls",
            "_model_module_version": "1.5.0",
            "_model_name": "DescriptionStyleModel",
            "_view_count": null,
            "_view_module": "@jupyter-widgets/base",
            "_view_module_version": "1.2.0",
            "_view_name": "StyleView",
            "description_width": ""
          }
        },
        "7ed726cfbe9e4c158222ae112a482f11": {
          "model_module": "@jupyter-widgets/base",
          "model_name": "LayoutModel",
          "model_module_version": "1.2.0",
          "state": {
            "_model_module": "@jupyter-widgets/base",
            "_model_module_version": "1.2.0",
            "_model_name": "LayoutModel",
            "_view_count": null,
            "_view_module": "@jupyter-widgets/base",
            "_view_module_version": "1.2.0",
            "_view_name": "LayoutView",
            "align_content": null,
            "align_items": null,
            "align_self": null,
            "border": null,
            "bottom": null,
            "display": null,
            "flex": null,
            "flex_flow": null,
            "grid_area": null,
            "grid_auto_columns": null,
            "grid_auto_flow": null,
            "grid_auto_rows": null,
            "grid_column": null,
            "grid_gap": null,
            "grid_row": null,
            "grid_template_areas": null,
            "grid_template_columns": null,
            "grid_template_rows": null,
            "height": null,
            "justify_content": null,
            "justify_items": null,
            "left": null,
            "margin": null,
            "max_height": null,
            "max_width": null,
            "min_height": null,
            "min_width": null,
            "object_fit": null,
            "object_position": null,
            "order": null,
            "overflow": null,
            "overflow_x": null,
            "overflow_y": null,
            "padding": null,
            "right": null,
            "top": null,
            "visibility": null,
            "width": null
          }
        },
        "006f1391eeb34773af433fb9b7ba8b15": {
          "model_module": "@jupyter-widgets/controls",
          "model_name": "ProgressStyleModel",
          "model_module_version": "1.5.0",
          "state": {
            "_model_module": "@jupyter-widgets/controls",
            "_model_module_version": "1.5.0",
            "_model_name": "ProgressStyleModel",
            "_view_count": null,
            "_view_module": "@jupyter-widgets/base",
            "_view_module_version": "1.2.0",
            "_view_name": "StyleView",
            "bar_color": null,
            "description_width": ""
          }
        },
        "e90c41b5ad6a425ea7fdfedf7059ffb5": {
          "model_module": "@jupyter-widgets/base",
          "model_name": "LayoutModel",
          "model_module_version": "1.2.0",
          "state": {
            "_model_module": "@jupyter-widgets/base",
            "_model_module_version": "1.2.0",
            "_model_name": "LayoutModel",
            "_view_count": null,
            "_view_module": "@jupyter-widgets/base",
            "_view_module_version": "1.2.0",
            "_view_name": "LayoutView",
            "align_content": null,
            "align_items": null,
            "align_self": null,
            "border": null,
            "bottom": null,
            "display": null,
            "flex": null,
            "flex_flow": null,
            "grid_area": null,
            "grid_auto_columns": null,
            "grid_auto_flow": null,
            "grid_auto_rows": null,
            "grid_column": null,
            "grid_gap": null,
            "grid_row": null,
            "grid_template_areas": null,
            "grid_template_columns": null,
            "grid_template_rows": null,
            "height": null,
            "justify_content": null,
            "justify_items": null,
            "left": null,
            "margin": null,
            "max_height": null,
            "max_width": null,
            "min_height": null,
            "min_width": null,
            "object_fit": null,
            "object_position": null,
            "order": null,
            "overflow": null,
            "overflow_x": null,
            "overflow_y": null,
            "padding": null,
            "right": null,
            "top": null,
            "visibility": null,
            "width": null
          }
        },
        "d7d55b7ba5b84f1aa5975bc299094273": {
          "model_module": "@jupyter-widgets/controls",
          "model_name": "DescriptionStyleModel",
          "model_module_version": "1.5.0",
          "state": {
            "_model_module": "@jupyter-widgets/controls",
            "_model_module_version": "1.5.0",
            "_model_name": "DescriptionStyleModel",
            "_view_count": null,
            "_view_module": "@jupyter-widgets/base",
            "_view_module_version": "1.2.0",
            "_view_name": "StyleView",
            "description_width": ""
          }
        },
        "c796bdf06d4f43f4ab613509773007d9": {
          "model_module": "@jupyter-widgets/controls",
          "model_name": "HBoxModel",
          "model_module_version": "1.5.0",
          "state": {
            "_dom_classes": [],
            "_model_module": "@jupyter-widgets/controls",
            "_model_module_version": "1.5.0",
            "_model_name": "HBoxModel",
            "_view_count": null,
            "_view_module": "@jupyter-widgets/controls",
            "_view_module_version": "1.5.0",
            "_view_name": "HBoxView",
            "box_style": "",
            "children": [
              "IPY_MODEL_191ae1ce27b5462dadb1a878ac14d138",
              "IPY_MODEL_186757c6a3d14506a6c0456bbfbba6ff",
              "IPY_MODEL_94450d110d284c76baa209b11d3daed8"
            ],
            "layout": "IPY_MODEL_580b9ea377a94f0a905b5f77780b6b61"
          }
        },
        "191ae1ce27b5462dadb1a878ac14d138": {
          "model_module": "@jupyter-widgets/controls",
          "model_name": "HTMLModel",
          "model_module_version": "1.5.0",
          "state": {
            "_dom_classes": [],
            "_model_module": "@jupyter-widgets/controls",
            "_model_module_version": "1.5.0",
            "_model_name": "HTMLModel",
            "_view_count": null,
            "_view_module": "@jupyter-widgets/controls",
            "_view_module_version": "1.5.0",
            "_view_name": "HTMLView",
            "description": "",
            "description_tooltip": null,
            "layout": "IPY_MODEL_21ecf7333019423d97f4fd2d85997278",
            "placeholder": "​",
            "style": "IPY_MODEL_45a0a74a0d924bc4837ffa96156a5aac",
            "value": "Downloading (…)/main/tokenizer.json: 100%"
          }
        },
        "186757c6a3d14506a6c0456bbfbba6ff": {
          "model_module": "@jupyter-widgets/controls",
          "model_name": "FloatProgressModel",
          "model_module_version": "1.5.0",
          "state": {
            "_dom_classes": [],
            "_model_module": "@jupyter-widgets/controls",
            "_model_module_version": "1.5.0",
            "_model_name": "FloatProgressModel",
            "_view_count": null,
            "_view_module": "@jupyter-widgets/controls",
            "_view_module_version": "1.5.0",
            "_view_name": "ProgressView",
            "bar_style": "success",
            "description": "",
            "description_tooltip": null,
            "layout": "IPY_MODEL_d0b45e1165614baeb8067be23b0704af",
            "max": 466062,
            "min": 0,
            "orientation": "horizontal",
            "style": "IPY_MODEL_415063e5d2aa4625a776400c7a204d35",
            "value": 466062
          }
        },
        "94450d110d284c76baa209b11d3daed8": {
          "model_module": "@jupyter-widgets/controls",
          "model_name": "HTMLModel",
          "model_module_version": "1.5.0",
          "state": {
            "_dom_classes": [],
            "_model_module": "@jupyter-widgets/controls",
            "_model_module_version": "1.5.0",
            "_model_name": "HTMLModel",
            "_view_count": null,
            "_view_module": "@jupyter-widgets/controls",
            "_view_module_version": "1.5.0",
            "_view_name": "HTMLView",
            "description": "",
            "description_tooltip": null,
            "layout": "IPY_MODEL_50feb3a37a8840bd9bf0a8eed8683ce8",
            "placeholder": "​",
            "style": "IPY_MODEL_300211a41cd94cfdabef2f404e5f90d7",
            "value": " 466k/466k [00:00&lt;00:00, 26.3MB/s]"
          }
        },
        "580b9ea377a94f0a905b5f77780b6b61": {
          "model_module": "@jupyter-widgets/base",
          "model_name": "LayoutModel",
          "model_module_version": "1.2.0",
          "state": {
            "_model_module": "@jupyter-widgets/base",
            "_model_module_version": "1.2.0",
            "_model_name": "LayoutModel",
            "_view_count": null,
            "_view_module": "@jupyter-widgets/base",
            "_view_module_version": "1.2.0",
            "_view_name": "LayoutView",
            "align_content": null,
            "align_items": null,
            "align_self": null,
            "border": null,
            "bottom": null,
            "display": null,
            "flex": null,
            "flex_flow": null,
            "grid_area": null,
            "grid_auto_columns": null,
            "grid_auto_flow": null,
            "grid_auto_rows": null,
            "grid_column": null,
            "grid_gap": null,
            "grid_row": null,
            "grid_template_areas": null,
            "grid_template_columns": null,
            "grid_template_rows": null,
            "height": null,
            "justify_content": null,
            "justify_items": null,
            "left": null,
            "margin": null,
            "max_height": null,
            "max_width": null,
            "min_height": null,
            "min_width": null,
            "object_fit": null,
            "object_position": null,
            "order": null,
            "overflow": null,
            "overflow_x": null,
            "overflow_y": null,
            "padding": null,
            "right": null,
            "top": null,
            "visibility": null,
            "width": null
          }
        },
        "21ecf7333019423d97f4fd2d85997278": {
          "model_module": "@jupyter-widgets/base",
          "model_name": "LayoutModel",
          "model_module_version": "1.2.0",
          "state": {
            "_model_module": "@jupyter-widgets/base",
            "_model_module_version": "1.2.0",
            "_model_name": "LayoutModel",
            "_view_count": null,
            "_view_module": "@jupyter-widgets/base",
            "_view_module_version": "1.2.0",
            "_view_name": "LayoutView",
            "align_content": null,
            "align_items": null,
            "align_self": null,
            "border": null,
            "bottom": null,
            "display": null,
            "flex": null,
            "flex_flow": null,
            "grid_area": null,
            "grid_auto_columns": null,
            "grid_auto_flow": null,
            "grid_auto_rows": null,
            "grid_column": null,
            "grid_gap": null,
            "grid_row": null,
            "grid_template_areas": null,
            "grid_template_columns": null,
            "grid_template_rows": null,
            "height": null,
            "justify_content": null,
            "justify_items": null,
            "left": null,
            "margin": null,
            "max_height": null,
            "max_width": null,
            "min_height": null,
            "min_width": null,
            "object_fit": null,
            "object_position": null,
            "order": null,
            "overflow": null,
            "overflow_x": null,
            "overflow_y": null,
            "padding": null,
            "right": null,
            "top": null,
            "visibility": null,
            "width": null
          }
        },
        "45a0a74a0d924bc4837ffa96156a5aac": {
          "model_module": "@jupyter-widgets/controls",
          "model_name": "DescriptionStyleModel",
          "model_module_version": "1.5.0",
          "state": {
            "_model_module": "@jupyter-widgets/controls",
            "_model_module_version": "1.5.0",
            "_model_name": "DescriptionStyleModel",
            "_view_count": null,
            "_view_module": "@jupyter-widgets/base",
            "_view_module_version": "1.2.0",
            "_view_name": "StyleView",
            "description_width": ""
          }
        },
        "d0b45e1165614baeb8067be23b0704af": {
          "model_module": "@jupyter-widgets/base",
          "model_name": "LayoutModel",
          "model_module_version": "1.2.0",
          "state": {
            "_model_module": "@jupyter-widgets/base",
            "_model_module_version": "1.2.0",
            "_model_name": "LayoutModel",
            "_view_count": null,
            "_view_module": "@jupyter-widgets/base",
            "_view_module_version": "1.2.0",
            "_view_name": "LayoutView",
            "align_content": null,
            "align_items": null,
            "align_self": null,
            "border": null,
            "bottom": null,
            "display": null,
            "flex": null,
            "flex_flow": null,
            "grid_area": null,
            "grid_auto_columns": null,
            "grid_auto_flow": null,
            "grid_auto_rows": null,
            "grid_column": null,
            "grid_gap": null,
            "grid_row": null,
            "grid_template_areas": null,
            "grid_template_columns": null,
            "grid_template_rows": null,
            "height": null,
            "justify_content": null,
            "justify_items": null,
            "left": null,
            "margin": null,
            "max_height": null,
            "max_width": null,
            "min_height": null,
            "min_width": null,
            "object_fit": null,
            "object_position": null,
            "order": null,
            "overflow": null,
            "overflow_x": null,
            "overflow_y": null,
            "padding": null,
            "right": null,
            "top": null,
            "visibility": null,
            "width": null
          }
        },
        "415063e5d2aa4625a776400c7a204d35": {
          "model_module": "@jupyter-widgets/controls",
          "model_name": "ProgressStyleModel",
          "model_module_version": "1.5.0",
          "state": {
            "_model_module": "@jupyter-widgets/controls",
            "_model_module_version": "1.5.0",
            "_model_name": "ProgressStyleModel",
            "_view_count": null,
            "_view_module": "@jupyter-widgets/base",
            "_view_module_version": "1.2.0",
            "_view_name": "StyleView",
            "bar_color": null,
            "description_width": ""
          }
        },
        "50feb3a37a8840bd9bf0a8eed8683ce8": {
          "model_module": "@jupyter-widgets/base",
          "model_name": "LayoutModel",
          "model_module_version": "1.2.0",
          "state": {
            "_model_module": "@jupyter-widgets/base",
            "_model_module_version": "1.2.0",
            "_model_name": "LayoutModel",
            "_view_count": null,
            "_view_module": "@jupyter-widgets/base",
            "_view_module_version": "1.2.0",
            "_view_name": "LayoutView",
            "align_content": null,
            "align_items": null,
            "align_self": null,
            "border": null,
            "bottom": null,
            "display": null,
            "flex": null,
            "flex_flow": null,
            "grid_area": null,
            "grid_auto_columns": null,
            "grid_auto_flow": null,
            "grid_auto_rows": null,
            "grid_column": null,
            "grid_gap": null,
            "grid_row": null,
            "grid_template_areas": null,
            "grid_template_columns": null,
            "grid_template_rows": null,
            "height": null,
            "justify_content": null,
            "justify_items": null,
            "left": null,
            "margin": null,
            "max_height": null,
            "max_width": null,
            "min_height": null,
            "min_width": null,
            "object_fit": null,
            "object_position": null,
            "order": null,
            "overflow": null,
            "overflow_x": null,
            "overflow_y": null,
            "padding": null,
            "right": null,
            "top": null,
            "visibility": null,
            "width": null
          }
        },
        "300211a41cd94cfdabef2f404e5f90d7": {
          "model_module": "@jupyter-widgets/controls",
          "model_name": "DescriptionStyleModel",
          "model_module_version": "1.5.0",
          "state": {
            "_model_module": "@jupyter-widgets/controls",
            "_model_module_version": "1.5.0",
            "_model_name": "DescriptionStyleModel",
            "_view_count": null,
            "_view_module": "@jupyter-widgets/base",
            "_view_module_version": "1.2.0",
            "_view_name": "StyleView",
            "description_width": ""
          }
        }
      }
    },
    "language_info": {
      "name": "python",
      "version": "3.10.10",
      "mimetype": "text/x-python",
      "codemirror_mode": {
        "name": "ipython",
        "version": 3
      },
      "pygments_lexer": "ipython3",
      "nbconvert_exporter": "python",
      "file_extension": ".py"
    }
  },
  "nbformat_minor": 0,
  "nbformat": 4,
  "cells": [
    {
      "cell_type": "markdown",
      "source": [
        "# Final Project: Building a model with K-Train"
      ],
      "metadata": {
        "id": "vBVrSZE47UNQ"
      }
    },
    {
      "cell_type": "markdown",
      "source": [
        "## About this project"
      ],
      "metadata": {
        "id": "ZXuMewVjCBYy"
      }
    },
    {
      "cell_type": "markdown",
      "source": [
        "Theragun, a media buying company, aims to target consumers who prioritize health and wellness are more likely to consider and purchase their product. To achieve this, they intend to run a media campaign by advertising on news articles related to health and wellness. The goal of this project is to build a deep learning algorithm that can accurately predict whether or not a document is about \"healthy living\" or \"wellness\". To accomplish this, we will utilize the K-Train library for building and training the inference model.\n",
        "\n",
        "K-Train is a library that simplifies deep learning for natural language processing (NLP). It provides an easy-to-use interface for tasks like text classification and named entity recognition. With ktrain, we can preprocess text data, fine-tune pre-trained transformer models, train neural networks, and evaluate model performance."
      ],
      "metadata": {
        "id": "8ERHzPAZCE9t"
      }
    },
    {
      "cell_type": "markdown",
      "source": [
        "## Imports"
      ],
      "metadata": {
        "id": "hGSUArJ_ZYN3"
      }
    },
    {
      "cell_type": "code",
      "source": [
        "import os\n",
        "try:\n",
        "  import ktrain\n",
        "except:\n",
        "  !pip install ktrain\n",
        "  os.kill(os.getpid(), 9)\n",
        "import ktrain\n",
        "import pandas as pd\n",
        "import numpy as np"
      ],
      "metadata": {
        "id": "16hoKG5dbeWs",
        "execution": {
          "iopub.status.busy": "2023-06-06T13:55:45.417037Z",
          "iopub.execute_input": "2023-06-06T13:55:45.417758Z",
          "iopub.status.idle": "2023-06-06T13:55:45.423764Z",
          "shell.execute_reply.started": "2023-06-06T13:55:45.417699Z",
          "shell.execute_reply": "2023-06-06T13:55:45.422750Z"
        },
        "trusted": true
      },
      "execution_count": null,
      "outputs": []
    },
    {
      "cell_type": "markdown",
      "source": [
        "## Mount Google Drive"
      ],
      "metadata": {
        "id": "oaiVgZtNyRf2"
      }
    },
    {
      "cell_type": "code",
      "source": [
        "from google.colab import drive\n",
        "drive.mount('/content/drive')"
      ],
      "metadata": {
        "id": "V_ewzr0kyTXo",
        "colab": {
          "base_uri": "https://localhost:8080/"
        },
        "outputId": "404aea14-51d2-4890-c7ec-bcd3f6bfde75"
      },
      "execution_count": null,
      "outputs": [
        {
          "output_type": "stream",
          "name": "stdout",
          "text": "Mounted at /content/drive\n"
        }
      ]
    },
    {
      "cell_type": "code",
      "source": [
        "# show GPU information for runtime\n",
        "gpu_info = !nvidia-smi\n",
        "gpu_info = '\\n'.join(gpu_info)\n",
        "if gpu_info.find('failed') >= 0:\n",
        "  print('Not connected to a GPU')\n",
        "else:\n",
        "  print(gpu_info)"
      ],
      "metadata": {
        "id": "I0GWta-7ELIN",
        "colab": {
          "base_uri": "https://localhost:8080/"
        },
        "outputId": "77f5e9a7-7fac-4dec-f294-c6df2f1c00ae",
        "execution": {
          "iopub.status.busy": "2023-06-05T22:20:00.715333Z",
          "iopub.execute_input": "2023-06-05T22:20:00.716280Z",
          "iopub.status.idle": "2023-06-05T22:20:00.767961Z",
          "shell.execute_reply.started": "2023-06-05T22:20:00.716235Z",
          "shell.execute_reply": "2023-06-05T22:20:00.766774Z"
        },
        "trusted": true
      },
      "execution_count": null,
      "outputs": [
        {
          "name": "stdout",
          "text": "Mon Jun  5 22:20:00 2023       \n+-----------------------------------------------------------------------------+\n| NVIDIA-SMI 470.161.03   Driver Version: 470.161.03   CUDA Version: 11.4     |\n|-------------------------------+----------------------+----------------------+\n| GPU  Name        Persistence-M| Bus-Id        Disp.A | Volatile Uncorr. ECC |\n| Fan  Temp  Perf  Pwr:Usage/Cap|         Memory-Usage | GPU-Util  Compute M. |\n|                               |                      |               MIG M. |\n|===============================+======================+======================|\n|   0  Tesla P100-PCIE...  Off  | 00000000:00:04.0 Off |                    0 |\n| N/A   40C    P0    28W / 250W |      0MiB / 16280MiB |      0%      Default |\n|                               |                      |                  N/A |\n+-------------------------------+----------------------+----------------------+\n                                                                               \n+-----------------------------------------------------------------------------+\n| Processes:                                                                  |\n|  GPU   GI   CI        PID   Type   Process name                  GPU Memory |\n|        ID   ID                                                   Usage      |\n|=============================================================================|\n|  No running processes found                                                 |\n+-----------------------------------------------------------------------------+\n",
          "output_type": "stream"
        }
      ]
    },
    {
      "cell_type": "markdown",
      "source": [
        "## Exploratory Data Analysis (EDA) - Inspect, Visualize, and Prepare the Data"
      ],
      "metadata": {
        "id": "oLd-Qkl7Djha"
      }
    },
    {
      "cell_type": "code",
      "source": [
        "# read the data\n",
        "reviews = pd.read_json(\"drive/MyDrive/news_category_trainingdata_final.json\")\n"
      ],
      "metadata": {
        "id": "a7mhLblG6saq",
        "execution": {
          "iopub.status.busy": "2023-06-06T13:55:57.201399Z",
          "iopub.execute_input": "2023-06-06T13:55:57.201906Z",
          "iopub.status.idle": "2023-06-06T13:55:59.625745Z",
          "shell.execute_reply.started": "2023-06-06T13:55:57.201813Z",
          "shell.execute_reply": "2023-06-06T13:55:59.624737Z"
        },
        "trusted": true
      },
      "execution_count": null,
      "outputs": []
    },
    {
      "cell_type": "code",
      "source": [
        "# inspect the data\n",
        "reviews.head()"
      ],
      "metadata": {
        "id": "quwyVcHh6P1s",
        "colab": {
          "base_uri": "https://localhost:8080/",
          "height": 206
        },
        "outputId": "225b28e0-848a-4e14-b468-cfd62ac147c7",
        "execution": {
          "iopub.status.busy": "2023-06-06T13:55:59.627987Z",
          "iopub.execute_input": "2023-06-06T13:55:59.628386Z",
          "iopub.status.idle": "2023-06-06T13:55:59.649931Z",
          "shell.execute_reply.started": "2023-06-06T13:55:59.628350Z",
          "shell.execute_reply": "2023-06-06T13:55:59.648834Z"
        },
        "trusted": true
      },
      "execution_count": null,
      "outputs": [
        {
          "execution_count": 4,
          "output_type": "execute_result",
          "data": {
            "text/plain": "        category                                           headline  \\\n0          CRIME  There Were 2 Mass Shootings In Texas Last Week...   \n1  ENTERTAINMENT  Will Smith Joins Diplo And Nicky Jam For The 2...   \n2  ENTERTAINMENT    Hugh Grant Marries For The First Time At Age 57   \n3  ENTERTAINMENT  Jim Carrey Blasts 'Castrato' Adam Schiff And D...   \n4  ENTERTAINMENT  Julianna Margulies Uses Donald Trump Poop Bags...   \n\n           authors                                               link  \\\n0  Melissa Jeltsen  https://www.huffingtonpost.com/entry/texas-ama...   \n1    Andy McDonald  https://www.huffingtonpost.com/entry/will-smit...   \n2       Ron Dicker  https://www.huffingtonpost.com/entry/hugh-gran...   \n3       Ron Dicker  https://www.huffingtonpost.com/entry/jim-carre...   \n4       Ron Dicker  https://www.huffingtonpost.com/entry/julianna-...   \n\n                                   short_description       date  \n0  She left her husband. He killed their children... 2018-05-26  \n1                           Of course it has a song. 2018-05-26  \n2  The actor and his longtime girlfriend Anna Ebe... 2018-05-26  \n3  The actor gives Dems an ass-kicking for not fi... 2018-05-26  \n4  The \"Dietland\" actress said using the bags is ... 2018-05-26  ",
            "text/html": "<div>\n<style scoped>\n    .dataframe tbody tr th:only-of-type {\n        vertical-align: middle;\n    }\n\n    .dataframe tbody tr th {\n        vertical-align: top;\n    }\n\n    .dataframe thead th {\n        text-align: right;\n    }\n</style>\n<table border=\"1\" class=\"dataframe\">\n  <thead>\n    <tr style=\"text-align: right;\">\n      <th></th>\n      <th>category</th>\n      <th>headline</th>\n      <th>authors</th>\n      <th>link</th>\n      <th>short_description</th>\n      <th>date</th>\n    </tr>\n  </thead>\n  <tbody>\n    <tr>\n      <th>0</th>\n      <td>CRIME</td>\n      <td>There Were 2 Mass Shootings In Texas Last Week...</td>\n      <td>Melissa Jeltsen</td>\n      <td>https://www.huffingtonpost.com/entry/texas-ama...</td>\n      <td>She left her husband. He killed their children...</td>\n      <td>2018-05-26</td>\n    </tr>\n    <tr>\n      <th>1</th>\n      <td>ENTERTAINMENT</td>\n      <td>Will Smith Joins Diplo And Nicky Jam For The 2...</td>\n      <td>Andy McDonald</td>\n      <td>https://www.huffingtonpost.com/entry/will-smit...</td>\n      <td>Of course it has a song.</td>\n      <td>2018-05-26</td>\n    </tr>\n    <tr>\n      <th>2</th>\n      <td>ENTERTAINMENT</td>\n      <td>Hugh Grant Marries For The First Time At Age 57</td>\n      <td>Ron Dicker</td>\n      <td>https://www.huffingtonpost.com/entry/hugh-gran...</td>\n      <td>The actor and his longtime girlfriend Anna Ebe...</td>\n      <td>2018-05-26</td>\n    </tr>\n    <tr>\n      <th>3</th>\n      <td>ENTERTAINMENT</td>\n      <td>Jim Carrey Blasts 'Castrato' Adam Schiff And D...</td>\n      <td>Ron Dicker</td>\n      <td>https://www.huffingtonpost.com/entry/jim-carre...</td>\n      <td>The actor gives Dems an ass-kicking for not fi...</td>\n      <td>2018-05-26</td>\n    </tr>\n    <tr>\n      <th>4</th>\n      <td>ENTERTAINMENT</td>\n      <td>Julianna Margulies Uses Donald Trump Poop Bags...</td>\n      <td>Ron Dicker</td>\n      <td>https://www.huffingtonpost.com/entry/julianna-...</td>\n      <td>The \"Dietland\" actress said using the bags is ...</td>\n      <td>2018-05-26</td>\n    </tr>\n  </tbody>\n</table>\n</div>"
          },
          "metadata": {}
        }
      ]
    },
    {
      "cell_type": "markdown",
      "source": [
        "### Prepare the data"
      ],
      "metadata": {
        "id": "HbCERZaXG0p-"
      }
    },
    {
      "cell_type": "markdown",
      "source": [
        "Most machine learning tools in Python accept one field/column/string. So we have to merge our two text column. Let's separate it with a space."
      ],
      "metadata": {
        "id": "fZ7xO9Aa6iyU"
      }
    },
    {
      "cell_type": "code",
      "source": [
        "# merge two text column, separate it with a space\n",
        "reviews['combined_text'] = reviews['headline'] + ' ' + reviews['short_description']"
      ],
      "metadata": {
        "id": "F6VLEzaSuDyx",
        "execution": {
          "iopub.status.busy": "2023-06-06T13:56:00.823621Z",
          "iopub.execute_input": "2023-06-06T13:56:00.824019Z",
          "iopub.status.idle": "2023-06-06T13:56:00.908254Z",
          "shell.execute_reply.started": "2023-06-06T13:56:00.823979Z",
          "shell.execute_reply": "2023-06-06T13:56:00.906702Z"
        },
        "trusted": true
      },
      "execution_count": null,
      "outputs": []
    },
    {
      "cell_type": "markdown",
      "source": [
        "The first thing we need to do is prepare the data. Specifically, we have a categorical column that we want to turn into a \"is this article healthy living or wellness?\" column. That is, when an article is about healthy living or wellness, it should have a 1, when it's anything else, it should be a 0."
      ],
      "metadata": {
        "id": "YKvESWUF5f4Y"
      }
    },
    {
      "cell_type": "code",
      "source": [
        "reviews[reviews['category'].str.contains(\"HEALTHY LIVING|WELLNESS\", case=False)]"
      ],
      "metadata": {
        "id": "Bz1PoZOPriCk",
        "colab": {
          "base_uri": "https://localhost:8080/",
          "height": 424
        },
        "outputId": "daa49f9c-b5b5-4c9b-be78-95dde1015c64",
        "execution": {
          "iopub.status.busy": "2023-06-06T13:56:01.606594Z",
          "iopub.execute_input": "2023-06-06T13:56:01.606969Z",
          "iopub.status.idle": "2023-06-06T13:56:01.843589Z",
          "shell.execute_reply.started": "2023-06-06T13:56:01.606937Z",
          "shell.execute_reply": "2023-06-06T13:56:01.842459Z"
        },
        "trusted": true
      },
      "execution_count": null,
      "outputs": [
        {
          "execution_count": 6,
          "output_type": "execute_result",
          "data": {
            "text/plain": "              category                                           headline  \\\n7578    HEALTHY LIVING  To The People Who Say ‘I’m Tired’ When Someone...   \n7693    HEALTHY LIVING  Eating Shake Shack Made Me Feel Healthier Than...   \n7747    HEALTHY LIVING  How To Stay Updated On The News Without Losing...   \n7927    HEALTHY LIVING  27 Perfect Tweets About Whole30 That Will Make...   \n7934    HEALTHY LIVING         The Real Reason Your Hands Are Always Cold   \n...                ...                                                ...   \n200797        WELLNESS  Shoveling Snow? How to Protect Your Back (And ...   \n200799        WELLNESS  7 Reasons Working Too Much Is Bad For Your Health   \n200800        WELLNESS   The Sleep Library: 11 Soothing Books For Bedtime   \n200802        WELLNESS                   The Benefits of Caring for a Pet   \n200805        WELLNESS  This Is Only the Beginning: Surprising Advice ...   \n\n                                                  authors  \\\n7578    The Mighty, ContributorWe face disability, dis...   \n7693    Colleen Werner, ContributorCampus Editor-at-Large   \n7747                                       Lindsay Holmes   \n7927                                       Lindsay Holmes   \n7934    Refinery29, ContributorThe #1 new-media brand ...   \n...                                                   ...   \n200797                                                      \n200799                                        Sarah Klein   \n200800                                                      \n200802  Rita Altman, R.N., Contributor\\nSenior Vice Pr...   \n200805  Ellie Knaus, Contributor\\nAtomic Moms Podcast ...   \n\n                                                     link  \\\n7578    https://www.huffingtonpost.com/entry/to-the-pe...   \n7693    https://www.huffingtonpost.com/entry/eating-sh...   \n7747    https://www.huffingtonpost.com/entry/anxiety-f...   \n7927    https://www.huffingtonpost.com/entry/tweets-ab...   \n7934    https://www.huffingtonpost.com/entry/the-real-...   \n...                                                   ...   \n200797  https://www.huffingtonpost.com/entry/shovel-sn...   \n200799  https://www.huffingtonpost.com/entry/overtime-...   \n200800  https://www.huffingtonpost.comhttp://www.oprah...   \n200802  https://www.huffingtonpost.com/entry/pets-seni...   \n200805  https://www.huffingtonpost.com/entry/life-tips...   \n\n                                        short_description       date  \\\n7578    When you feel like this, it’s important to kno... 2018-01-16   \n7693    I can vividly remember the first time I felt f... 2018-01-12   \n7747       Because it's only becoming more of a struggle. 2018-01-12   \n7927    \"The only Whole30 I want to participate in is ... 2018-01-10   \n7934    Essentially, your hands are kept warm thanks t... 2018-01-10   \n...                                                   ...        ...   \n200797  Work up to it. Warm up inside, and incorporate... 2012-01-28   \n200799  If you're the last one to leave the office, or... 2012-01-28   \n200800  Do you toss and turn until you finally sit up ... 2012-01-28   \n200802  For the young as well as the old, especially i... 2012-01-28   \n200805  My great-aunt Ida loves to say, \"This is only ... 2012-01-28   \n\n                                            combined_text  \n7578    To The People Who Say ‘I’m Tired’ When Someone...  \n7693    Eating Shake Shack Made Me Feel Healthier Than...  \n7747    How To Stay Updated On The News Without Losing...  \n7927    27 Perfect Tweets About Whole30 That Will Make...  \n7934    The Real Reason Your Hands Are Always Cold Ess...  \n...                                                   ...  \n200797  Shoveling Snow? How to Protect Your Back (And ...  \n200799  7 Reasons Working Too Much Is Bad For Your Hea...  \n200800  The Sleep Library: 11 Soothing Books For Bedti...  \n200802  The Benefits of Caring for a Pet For the young...  \n200805  This Is Only the Beginning: Surprising Advice ...  \n\n[24521 rows x 7 columns]",
            "text/html": "<div>\n<style scoped>\n    .dataframe tbody tr th:only-of-type {\n        vertical-align: middle;\n    }\n\n    .dataframe tbody tr th {\n        vertical-align: top;\n    }\n\n    .dataframe thead th {\n        text-align: right;\n    }\n</style>\n<table border=\"1\" class=\"dataframe\">\n  <thead>\n    <tr style=\"text-align: right;\">\n      <th></th>\n      <th>category</th>\n      <th>headline</th>\n      <th>authors</th>\n      <th>link</th>\n      <th>short_description</th>\n      <th>date</th>\n      <th>combined_text</th>\n    </tr>\n  </thead>\n  <tbody>\n    <tr>\n      <th>7578</th>\n      <td>HEALTHY LIVING</td>\n      <td>To The People Who Say ‘I’m Tired’ When Someone...</td>\n      <td>The Mighty, ContributorWe face disability, dis...</td>\n      <td>https://www.huffingtonpost.com/entry/to-the-pe...</td>\n      <td>When you feel like this, it’s important to kno...</td>\n      <td>2018-01-16</td>\n      <td>To The People Who Say ‘I’m Tired’ When Someone...</td>\n    </tr>\n    <tr>\n      <th>7693</th>\n      <td>HEALTHY LIVING</td>\n      <td>Eating Shake Shack Made Me Feel Healthier Than...</td>\n      <td>Colleen Werner, ContributorCampus Editor-at-Large</td>\n      <td>https://www.huffingtonpost.com/entry/eating-sh...</td>\n      <td>I can vividly remember the first time I felt f...</td>\n      <td>2018-01-12</td>\n      <td>Eating Shake Shack Made Me Feel Healthier Than...</td>\n    </tr>\n    <tr>\n      <th>7747</th>\n      <td>HEALTHY LIVING</td>\n      <td>How To Stay Updated On The News Without Losing...</td>\n      <td>Lindsay Holmes</td>\n      <td>https://www.huffingtonpost.com/entry/anxiety-f...</td>\n      <td>Because it's only becoming more of a struggle.</td>\n      <td>2018-01-12</td>\n      <td>How To Stay Updated On The News Without Losing...</td>\n    </tr>\n    <tr>\n      <th>7927</th>\n      <td>HEALTHY LIVING</td>\n      <td>27 Perfect Tweets About Whole30 That Will Make...</td>\n      <td>Lindsay Holmes</td>\n      <td>https://www.huffingtonpost.com/entry/tweets-ab...</td>\n      <td>\"The only Whole30 I want to participate in is ...</td>\n      <td>2018-01-10</td>\n      <td>27 Perfect Tweets About Whole30 That Will Make...</td>\n    </tr>\n    <tr>\n      <th>7934</th>\n      <td>HEALTHY LIVING</td>\n      <td>The Real Reason Your Hands Are Always Cold</td>\n      <td>Refinery29, ContributorThe #1 new-media brand ...</td>\n      <td>https://www.huffingtonpost.com/entry/the-real-...</td>\n      <td>Essentially, your hands are kept warm thanks t...</td>\n      <td>2018-01-10</td>\n      <td>The Real Reason Your Hands Are Always Cold Ess...</td>\n    </tr>\n    <tr>\n      <th>...</th>\n      <td>...</td>\n      <td>...</td>\n      <td>...</td>\n      <td>...</td>\n      <td>...</td>\n      <td>...</td>\n      <td>...</td>\n    </tr>\n    <tr>\n      <th>200797</th>\n      <td>WELLNESS</td>\n      <td>Shoveling Snow? How to Protect Your Back (And ...</td>\n      <td></td>\n      <td>https://www.huffingtonpost.com/entry/shovel-sn...</td>\n      <td>Work up to it. Warm up inside, and incorporate...</td>\n      <td>2012-01-28</td>\n      <td>Shoveling Snow? How to Protect Your Back (And ...</td>\n    </tr>\n    <tr>\n      <th>200799</th>\n      <td>WELLNESS</td>\n      <td>7 Reasons Working Too Much Is Bad For Your Health</td>\n      <td>Sarah Klein</td>\n      <td>https://www.huffingtonpost.com/entry/overtime-...</td>\n      <td>If you're the last one to leave the office, or...</td>\n      <td>2012-01-28</td>\n      <td>7 Reasons Working Too Much Is Bad For Your Hea...</td>\n    </tr>\n    <tr>\n      <th>200800</th>\n      <td>WELLNESS</td>\n      <td>The Sleep Library: 11 Soothing Books For Bedtime</td>\n      <td></td>\n      <td>https://www.huffingtonpost.comhttp://www.oprah...</td>\n      <td>Do you toss and turn until you finally sit up ...</td>\n      <td>2012-01-28</td>\n      <td>The Sleep Library: 11 Soothing Books For Bedti...</td>\n    </tr>\n    <tr>\n      <th>200802</th>\n      <td>WELLNESS</td>\n      <td>The Benefits of Caring for a Pet</td>\n      <td>Rita Altman, R.N., Contributor\\nSenior Vice Pr...</td>\n      <td>https://www.huffingtonpost.com/entry/pets-seni...</td>\n      <td>For the young as well as the old, especially i...</td>\n      <td>2012-01-28</td>\n      <td>The Benefits of Caring for a Pet For the young...</td>\n    </tr>\n    <tr>\n      <th>200805</th>\n      <td>WELLNESS</td>\n      <td>This Is Only the Beginning: Surprising Advice ...</td>\n      <td>Ellie Knaus, Contributor\\nAtomic Moms Podcast ...</td>\n      <td>https://www.huffingtonpost.com/entry/life-tips...</td>\n      <td>My great-aunt Ida loves to say, \"This is only ...</td>\n      <td>2012-01-28</td>\n      <td>This Is Only the Beginning: Surprising Advice ...</td>\n    </tr>\n  </tbody>\n</table>\n<p>24521 rows × 7 columns</p>\n</div>"
          },
          "metadata": {}
        }
      ]
    },
    {
      "cell_type": "code",
      "source": [
        "reviews['healthy_wellness'] = np.where(reviews['category'].str.contains('HEALTHY LIVING|WELLNESS'), 1, 0)"
      ],
      "metadata": {
        "id": "ccC1GR85suZJ",
        "execution": {
          "iopub.status.busy": "2023-06-06T13:56:06.950034Z",
          "iopub.execute_input": "2023-06-06T13:56:06.950405Z",
          "iopub.status.idle": "2023-06-06T13:56:07.113488Z",
          "shell.execute_reply.started": "2023-06-06T13:56:06.950372Z",
          "shell.execute_reply": "2023-06-06T13:56:07.112451Z"
        },
        "trusted": true
      },
      "execution_count": null,
      "outputs": []
    },
    {
      "cell_type": "code",
      "source": [
        "reviews['healthy_wellness'].describe()"
      ],
      "metadata": {
        "id": "aexMvzhKtyDN",
        "colab": {
          "base_uri": "https://localhost:8080/"
        },
        "outputId": "dee75fde-90a5-4fb9-a9be-9af675585f2b",
        "execution": {
          "iopub.status.busy": "2023-06-06T13:56:34.431262Z",
          "iopub.execute_input": "2023-06-06T13:56:34.431641Z",
          "iopub.status.idle": "2023-06-06T13:56:34.454047Z",
          "shell.execute_reply.started": "2023-06-06T13:56:34.431610Z",
          "shell.execute_reply": "2023-06-06T13:56:34.452779Z"
        },
        "trusted": true
      },
      "execution_count": null,
      "outputs": [
        {
          "execution_count": 9,
          "output_type": "execute_result",
          "data": {
            "text/plain": "count    200853.000000\nmean          0.122084\nstd           0.327384\nmin           0.000000\n25%           0.000000\n50%           0.000000\n75%           0.000000\nmax           1.000000\nName: healthy_wellness, dtype: float64"
          },
          "metadata": {}
        }
      ]
    },
    {
      "cell_type": "code",
      "source": [
        "# calculate the count of each label\n",
        "reviews['healthy_wellness'].value_counts()\n"
      ],
      "metadata": {
        "colab": {
          "base_uri": "https://localhost:8080/"
        },
        "id": "Y53HiMug4RWX",
        "outputId": "859e6529-e91d-4684-b736-b377aa53b38b",
        "execution": {
          "iopub.status.busy": "2023-06-06T13:56:35.250737Z",
          "iopub.execute_input": "2023-06-06T13:56:35.251433Z",
          "iopub.status.idle": "2023-06-06T13:56:35.261121Z",
          "shell.execute_reply.started": "2023-06-06T13:56:35.251381Z",
          "shell.execute_reply": "2023-06-06T13:56:35.260190Z"
        },
        "trusted": true
      },
      "execution_count": null,
      "outputs": [
        {
          "execution_count": 10,
          "output_type": "execute_result",
          "data": {
            "text/plain": "0    176332\n1     24521\nName: healthy_wellness, dtype: int64"
          },
          "metadata": {}
        }
      ]
    },
    {
      "cell_type": "code",
      "source": [
        "# calculate the proportion of healthy_wellness\n",
        "reviews['healthy_wellness'].value_counts()/len(reviews)*100"
      ],
      "metadata": {
        "colab": {
          "base_uri": "https://localhost:8080/"
        },
        "id": "ouWZFdMB2m1B",
        "outputId": "4a058f5d-1dff-4a5a-d426-9146fa207f5a",
        "execution": {
          "iopub.status.busy": "2023-06-06T13:56:35.427203Z",
          "iopub.execute_input": "2023-06-06T13:56:35.427844Z",
          "iopub.status.idle": "2023-06-06T13:56:35.438396Z",
          "shell.execute_reply.started": "2023-06-06T13:56:35.427791Z",
          "shell.execute_reply": "2023-06-06T13:56:35.437080Z"
        },
        "trusted": true
      },
      "execution_count": null,
      "outputs": [
        {
          "execution_count": 11,
          "output_type": "execute_result",
          "data": {
            "text/plain": "0    87.791569\n1    12.208431\nName: healthy_wellness, dtype: float64"
          },
          "metadata": {}
        }
      ]
    },
    {
      "cell_type": "code",
      "source": [
        "import matplotlib.pyplot as plt\n",
        "# plot the count of each category\n",
        "fig, ax = plt.subplots(figsize=(8,6))\n",
        "reviews['healthy_wellness'].value_counts().plot(kind='bar', ax=ax)\n",
        "plt.xlabel(\"Category\")\n",
        "plt.xticks(rotation=360)\n",
        "plt.ylabel(\"Count\")\n",
        "plt.title(\"Figure 1. The Count of Each Category\")\n",
        "\n",
        "# plot the proportion of each category\n",
        "labels = reviews['healthy_wellness'].unique().tolist()\n",
        "counts = reviews['healthy_wellness'].value_counts()\n",
        "sizes = [counts[v] for v in labels]\n",
        "fig1, ax1 = plt.subplots()\n",
        "ax1.pie(sizes, labels=labels, autopct='%0.2f%%')\n",
        "ax1.axis('equal')\n",
        "plt.title(\"Figure 2. The Proportion of Each Category\")\n",
        "\n",
        "plt.tight_layout()\n",
        "plt.show()\n"
      ],
      "metadata": {
        "colab": {
          "base_uri": "https://localhost:8080/",
          "height": 1000
        },
        "id": "FKGe4vCG4X4B",
        "outputId": "b6c6ed5a-f089-4d4b-bc93-e95f6e2ca969",
        "execution": {
          "iopub.status.busy": "2023-06-06T13:56:35.760634Z",
          "iopub.execute_input": "2023-06-06T13:56:35.761017Z",
          "iopub.status.idle": "2023-06-06T13:56:36.346656Z",
          "shell.execute_reply.started": "2023-06-06T13:56:35.760968Z",
          "shell.execute_reply": "2023-06-06T13:56:36.343993Z"
        },
        "trusted": true
      },
      "execution_count": null,
      "outputs": [
        {
          "output_type": "display_data",
          "data": {
            "text/plain": "<Figure size 800x600 with 1 Axes>",
            "image/png": "[encoded data removed]"
          },
          "metadata": {}
        },
        {
          "output_type": "display_data",
          "data": {
            "text/plain": "<Figure size 640x480 with 1 Axes>",
            "image/png": "[encoded data removed]"
          },
          "metadata": {}
        }
      ]
    },
    {
      "cell_type": "markdown",
      "source": [
        "With a proportion of 12.2% representing healthy wellness articles and 87.8% representing other articles, it is evident that our data is imbalanced. Therefore, it is necessary to create a new balanced dataset for model building."
      ],
      "metadata": {
        "id": "z2B8xogl3Ubm"
      }
    },
    {
      "cell_type": "markdown",
      "source": [
        "### Balance the data"
      ],
      "metadata": {
        "id": "S766s41yJVdf"
      }
    },
    {
      "cell_type": "markdown",
      "source": [
        "To create a balanced data set that includes all of the health living and wellness articles, set sample_amount to the total number of those articles (24,521).\n"
      ],
      "metadata": {
        "id": "-4sGp-UdeBMh"
      }
    },
    {
      "cell_type": "code",
      "source": [
        "# use the full balanced document set which is determined by total number of healthy living and wellness articles\n",
        "sample_amount =  len(reviews[reviews[\"healthy_wellness\"] == 1]) \n",
        "\n",
        "print(sample_amount)\n",
        "\n",
        "healthy_wellness = reviews[reviews['healthy_wellness'] == 1].sample(n=sample_amount)\n",
        "not_healthy_wellness = reviews[reviews['healthy_wellness'] == 0].sample(n=sample_amount)"
      ],
      "metadata": {
        "id": "xfLYND3fam_x",
        "colab": {
          "base_uri": "https://localhost:8080/"
        },
        "outputId": "3cfda066-5fbc-4242-85f3-8b2864afe772",
        "execution": {
          "iopub.status.busy": "2023-06-06T13:56:36.588559Z",
          "iopub.execute_input": "2023-06-06T13:56:36.588908Z",
          "iopub.status.idle": "2023-06-06T13:56:36.671643Z",
          "shell.execute_reply.started": "2023-06-06T13:56:36.588862Z",
          "shell.execute_reply": "2023-06-06T13:56:36.670444Z"
        },
        "trusted": true
      },
      "execution_count": null,
      "outputs": [
        {
          "name": "stdout",
          "text": "24521\n",
          "output_type": "stream"
        }
      ]
    },
    {
      "cell_type": "code",
      "source": [
        "# create a balanced dataset\n",
        "review_sample = pd.concat([healthy_wellness, not_healthy_wellness])"
      ],
      "metadata": {
        "id": "B48IOQpGdsp1",
        "execution": {
          "iopub.status.busy": "2023-06-06T13:56:36.796329Z",
          "iopub.execute_input": "2023-06-06T13:56:36.796654Z",
          "iopub.status.idle": "2023-06-06T13:56:36.818582Z",
          "shell.execute_reply.started": "2023-06-06T13:56:36.796629Z",
          "shell.execute_reply": "2023-06-06T13:56:36.817490Z"
        },
        "trusted": true
      },
      "execution_count": null,
      "outputs": []
    },
    {
      "cell_type": "code",
      "source": [
        "# describe new dataset\n",
        "review_sample.describe()"
      ],
      "metadata": {
        "id": "CHr4h7FYed_Z",
        "colab": {
          "base_uri": "https://localhost:8080/",
          "height": 300
        },
        "outputId": "e88fa91b-8b66-4982-fb35-58a3b8c34f74",
        "execution": {
          "iopub.status.busy": "2023-06-06T13:56:36.993675Z",
          "iopub.execute_input": "2023-06-06T13:56:36.994446Z",
          "iopub.status.idle": "2023-06-06T13:56:37.011477Z",
          "shell.execute_reply.started": "2023-06-06T13:56:36.994409Z",
          "shell.execute_reply": "2023-06-06T13:56:37.009991Z"
        },
        "trusted": true
      },
      "execution_count": null,
      "outputs": [
        {
          "execution_count": 15,
          "output_type": "execute_result",
          "data": {
            "text/plain": "       healthy_wellness\ncount      49042.000000\nmean           0.500000\nstd            0.500005\nmin            0.000000\n25%            0.000000\n50%            0.500000\n75%            1.000000\nmax            1.000000",
            "text/html": "<div>\n<style scoped>\n    .dataframe tbody tr th:only-of-type {\n        vertical-align: middle;\n    }\n\n    .dataframe tbody tr th {\n        vertical-align: top;\n    }\n\n    .dataframe thead th {\n        text-align: right;\n    }\n</style>\n<table border=\"1\" class=\"dataframe\">\n  <thead>\n    <tr style=\"text-align: right;\">\n      <th></th>\n      <th>healthy_wellness</th>\n    </tr>\n  </thead>\n  <tbody>\n    <tr>\n      <th>count</th>\n      <td>49042.000000</td>\n    </tr>\n    <tr>\n      <th>mean</th>\n      <td>0.500000</td>\n    </tr>\n    <tr>\n      <th>std</th>\n      <td>0.500005</td>\n    </tr>\n    <tr>\n      <th>min</th>\n      <td>0.000000</td>\n    </tr>\n    <tr>\n      <th>25%</th>\n      <td>0.000000</td>\n    </tr>\n    <tr>\n      <th>50%</th>\n      <td>0.500000</td>\n    </tr>\n    <tr>\n      <th>75%</th>\n      <td>1.000000</td>\n    </tr>\n    <tr>\n      <th>max</th>\n      <td>1.000000</td>\n    </tr>\n  </tbody>\n</table>\n</div>"
          },
          "metadata": {}
        }
      ]
    },
    {
      "cell_type": "markdown",
      "source": [
        "# Building and Training Models"
      ],
      "metadata": {
        "id": "Cljkg1U5aZ3_"
      }
    },
    {
      "cell_type": "markdown",
      "source": [
        "Here, we will tune and train a predictor model for classifying healthy-living and wellness articles."
      ],
      "metadata": {
        "id": "4KxLQ2lCprkx"
      }
    },
    {
      "cell_type": "code",
      "source": [
        "target_names = ['NOT HEALTHY LIVING - WELLNESS','HEALTHY LIVING - WELLNESS']"
      ],
      "metadata": {
        "id": "mUuRH7iYqPSX",
        "execution": {
          "iopub.status.busy": "2023-06-06T13:56:37.603913Z",
          "iopub.execute_input": "2023-06-06T13:56:37.604295Z",
          "iopub.status.idle": "2023-06-06T13:56:37.609234Z",
          "shell.execute_reply.started": "2023-06-06T13:56:37.604255Z",
          "shell.execute_reply": "2023-06-06T13:56:37.608170Z"
        },
        "trusted": true
      },
      "execution_count": null,
      "outputs": []
    },
    {
      "cell_type": "markdown",
      "source": [
        "### Model 1"
      ],
      "metadata": {
        "id": "8FzwStBPOuL1"
      }
    },
    {
      "cell_type": "markdown",
      "source": [
        "---\n",
        "\n",
        "For this project, we will utilize the \"distilbert-base-uncased\" transformer models, which is designed to process and understand text data by capturing contextual relationships between words. The \"uncased\" attribute indicates that the model has been trained on lowercased text, treating uppercase and lowercase letters as equivalent. With model 1, we will use the default parameters of the \"distilbert-base-uncased\" model, including a maximum feature count of 20,000 and a maximum sequence length of 512. Furthermore, the training process will be limited to a maximum of 6 epochs."
      ],
      "metadata": {
        "id": "bqj9ZZ4EQCAP"
      }
    },
    {
      "cell_type": "code",
      "source": [
        "# convert text data into features for distilbert model\n",
        "train1, val1, preprocess1 = ktrain.text.texts_from_df(\n",
        "    review_sample,\n",
        "    \"combined_text\",\n",
        "    label_columns=[\"healthy_wellness\"],\n",
        "    val_df=None,\n",
        "    max_features=20000,\n",
        "    maxlen=512,\n",
        "    val_pct=0.1,\n",
        "    ngram_range=1,\n",
        "    preprocess_mode=\"distilbert\",\n",
        "    verbose=1\n",
        ")"
      ],
      "metadata": {
        "id": "Hknt0exnpGRt",
        "colab": {
          "base_uri": "https://localhost:8080/",
          "height": 646,
          "referenced_widgets": [
            "56e1a8bdc5524df5a912e9dadec56845",
            "2256495157b6458ab707890af3be33be",
            "89d141b4dd4d428fb134438684a9d884",
            "7e8aeb0ce11841169d3b75de1fac671b",
            "717f11316e9243c0a71e1affc9283886",
            "754678f74f11404797160547a8a55d5a",
            "f26fb89f928043c29bbcd4c51a704b08",
            "24ab5c197d56499f80bad8e1f085c0b9",
            "d780cfae1eff487eb23990391523920b",
            "7e283ba3ece743b8813ba0b573f85988",
            "09a2baaebf4543a39c19b4e19853b170",
            "3d1b120385e0497c922fa2a5335e36f6",
            "00566ddaacc2465584c6c92d679fa0bf",
            "60c07cd5b59a438aaeb6fbcc2505e184",
            "19fccdfbd16441bc8f1ed38493460725",
            "c01463000ecf457499cb5b8a0c1075af",
            "fd783429a79a41538a107bc26ca5d9e6",
            "a84bb6e6d69f4634868333fda29cb96f",
            "2692f60d9b2d4b31801d45ccf8e2f1da",
            "d254f50f375c4728b5ff3b9ab83e64c0",
            "488b772203a04c0bbafe14ea9e59e773",
            "78595337d90449e9ae72957b11b23776",
            "2a51b3e1e0f8412283f5c399c9569d6f",
            "bc8e4fab74484993ae0315c586c0f44f",
            "3d1aef3bb695453f951cb7891e3e0303",
            "0df23131ade748afa8a9353e70a92655",
            "27cbf69904114eac944f48dacf40c5ce",
            "7a35bc79f9404a84bd13a51351373982",
            "a4eeba0301c64d0a8b48416041354fdc",
            "a660eed118cf4b02ae27ee640a35c162",
            "5c3570b35f2045349467caa2f49f4bee",
            "fb58753112a44b8c90981266d676eafe",
            "a2b4cd35c8784feeb2faf2c8c6c4fe71",
            "96e5ed38d0584ea0bcec4908eac3b06b",
            "3d7a16c6f5f448c2b691633016b02975",
            "60b566d2b9c245698b026a1108c569ce",
            "6f4b5c8a160948dd8e90e976797ae7fa",
            "bdf6496d8dfe455fa993b76d531b2c16",
            "f00d141736ca4daca960451c17bb3d3e",
            "af158506c638437689eaa9baf578b747",
            "7ed726cfbe9e4c158222ae112a482f11",
            "006f1391eeb34773af433fb9b7ba8b15",
            "e90c41b5ad6a425ea7fdfedf7059ffb5",
            "d7d55b7ba5b84f1aa5975bc299094273",
            "c796bdf06d4f43f4ab613509773007d9",
            "191ae1ce27b5462dadb1a878ac14d138",
            "186757c6a3d14506a6c0456bbfbba6ff",
            "94450d110d284c76baa209b11d3daed8",
            "580b9ea377a94f0a905b5f77780b6b61",
            "21ecf7333019423d97f4fd2d85997278",
            "45a0a74a0d924bc4837ffa96156a5aac",
            "d0b45e1165614baeb8067be23b0704af",
            "415063e5d2aa4625a776400c7a204d35",
            "50feb3a37a8840bd9bf0a8eed8683ce8",
            "300211a41cd94cfdabef2f404e5f90d7",
            "cfa623f5623b42a9924928956b0a3903",
            "53247135c11f4c99ab368677f8abda4a",
            "c8dd979e1d3d411494e5fe9890bc4170",
            "301f64b040d74c75a22f92ebc3cdd6d3",
            "cfe9d359b5d749b9a6c36c33fcc83094"
          ]
        },
        "outputId": "46dba9ae-b29c-4b13-9f55-0af95365d0dd",
        "execution": {
          "iopub.status.busy": "2023-06-05T22:20:23.833277Z",
          "iopub.execute_input": "2023-06-05T22:20:23.833709Z",
          "iopub.status.idle": "2023-06-05T22:21:00.541237Z",
          "shell.execute_reply.started": "2023-06-05T22:20:23.833679Z",
          "shell.execute_reply": "2023-06-05T22:21:00.540254Z"
        },
        "trusted": true
      },
      "execution_count": null,
      "outputs": [
        {
          "name": "stdout",
          "text": "['not_healthy_wellness', 'healthy_wellness']\n        not_healthy_wellness  healthy_wellness\n174419                   0.0               1.0\n180876                   0.0               1.0\n165423                   0.0               1.0\n166185                   0.0               1.0\n54057                    0.0               1.0\n['not_healthy_wellness', 'healthy_wellness']\n        not_healthy_wellness  healthy_wellness\n190323                   0.0               1.0\n102588                   0.0               1.0\n101550                   0.0               1.0\n98935                    1.0               0.0\n188815                   0.0               1.0\n",
          "output_type": "stream"
        },
        {
          "output_type": "display_data",
          "data": {
            "text/plain": "Downloading (…)lve/main/config.json:   0%|          | 0.00/483 [00:00<?, ?B/s]",
            "application/vnd.jupyter.widget-view+json": {
              "version_major": 2,
              "version_minor": 0,
              "model_id": "cfa623f5623b42a9924928956b0a3903"
            }
          },
          "metadata": {}
        },
        {
          "output_type": "display_data",
          "data": {
            "text/plain": "Downloading model.safetensors:   0%|          | 0.00/268M [00:00<?, ?B/s]",
            "application/vnd.jupyter.widget-view+json": {
              "version_major": 2,
              "version_minor": 0,
              "model_id": "53247135c11f4c99ab368677f8abda4a"
            }
          },
          "metadata": {}
        },
        {
          "name": "stdout",
          "text": "preprocessing train...\nlanguage: en\ntrain sequence lengths:\n\tmean : 32\n\t95percentile : 58\n\t99percentile : 68\n",
          "output_type": "stream"
        },
        {
          "output_type": "display_data",
          "data": {
            "text/plain": "Downloading (…)okenizer_config.json:   0%|          | 0.00/28.0 [00:00<?, ?B/s]",
            "application/vnd.jupyter.widget-view+json": {
              "version_major": 2,
              "version_minor": 0,
              "model_id": "c8dd979e1d3d411494e5fe9890bc4170"
            }
          },
          "metadata": {}
        },
        {
          "output_type": "display_data",
          "data": {
            "text/plain": "Downloading (…)solve/main/vocab.txt:   0%|          | 0.00/232k [00:00<?, ?B/s]",
            "application/vnd.jupyter.widget-view+json": {
              "version_major": 2,
              "version_minor": 0,
              "model_id": "301f64b040d74c75a22f92ebc3cdd6d3"
            }
          },
          "metadata": {}
        },
        {
          "output_type": "display_data",
          "data": {
            "text/plain": "Downloading (…)/main/tokenizer.json:   0%|          | 0.00/466k [00:00<?, ?B/s]",
            "application/vnd.jupyter.widget-view+json": {
              "version_major": 2,
              "version_minor": 0,
              "model_id": "cfe9d359b5d749b9a6c36c33fcc83094"
            }
          },
          "metadata": {}
        },
        {
          "output_type": "display_data",
          "data": {
            "text/plain": "<IPython.core.display.HTML object>",
            "text/html": "\n<style>\n    /* Turns off some styling */\n    progress {\n        /* gets rid of default border in Firefox and Opera. */\n        border: none;\n        /* Needs to be in here for Safari polyfill so background images work as expected. */\n        background-size: auto;\n    }\n    progress:not([value]), progress:not([value])::-webkit-progress-bar {\n        background: repeating-linear-gradient(45deg, #7e7e7e, #7e7e7e 10px, #5c5c5c 10px, #5c5c5c 20px);\n    }\n    .progress-bar-interrupted, .progress-bar-interrupted::-webkit-progress-bar {\n        background: #F44336;\n    }\n</style>\n"
          },
          "metadata": {}
        },
        {
          "output_type": "display_data",
          "data": {
            "text/plain": "<IPython.core.display.HTML object>",
            "text/html": ""
          },
          "metadata": {}
        },
        {
          "name": "stdout",
          "text": "Is Multi-Label? False\npreprocessing test...\nlanguage: en\ntest sequence lengths:\n\tmean : 32\n\t95percentile : 58\n\t99percentile : 67\n",
          "output_type": "stream"
        },
        {
          "output_type": "display_data",
          "data": {
            "text/plain": "<IPython.core.display.HTML object>",
            "text/html": "\n<style>\n    /* Turns off some styling */\n    progress {\n        /* gets rid of default border in Firefox and Opera. */\n        border: none;\n        /* Needs to be in here for Safari polyfill so background images work as expected. */\n        background-size: auto;\n    }\n    progress:not([value]), progress:not([value])::-webkit-progress-bar {\n        background: repeating-linear-gradient(45deg, #7e7e7e, #7e7e7e 10px, #5c5c5c 10px, #5c5c5c 20px);\n    }\n    .progress-bar-interrupted, .progress-bar-interrupted::-webkit-progress-bar {\n        background: #F44336;\n    }\n</style>\n"
          },
          "metadata": {}
        },
        {
          "output_type": "display_data",
          "data": {
            "text/plain": "<IPython.core.display.HTML object>",
            "text/html": ""
          },
          "metadata": {}
        }
      ]
    },
    {
      "cell_type": "code",
      "source": [
        "# load distilbert in a learner object\n",
        "model1 = preprocess1.get_classifier()\n",
        "learner1 = ktrain.get_learner(model1, train_data=train1, val_data=val1, batch_size=16)"
      ],
      "metadata": {
        "id": "wD_xu8e30bXp",
        "execution": {
          "iopub.status.busy": "2023-06-05T22:21:00.543416Z",
          "iopub.execute_input": "2023-06-05T22:21:00.543837Z",
          "iopub.status.idle": "2023-06-05T22:21:02.343266Z",
          "shell.execute_reply.started": "2023-06-05T22:21:00.543800Z",
          "shell.execute_reply": "2023-06-05T22:21:02.341965Z"
        },
        "trusted": true
      },
      "execution_count": null,
      "outputs": []
    },
    {
      "cell_type": "code",
      "source": [
        "learner1.lr_find(max_epochs=6)"
      ],
      "metadata": {
        "id": "qlv9dyx20VH6",
        "colab": {
          "base_uri": "https://localhost:8080/"
        },
        "outputId": "3ce28120-ed2b-43a3-8273-33a21d64253e",
        "execution": {
          "iopub.status.busy": "2023-06-05T23:03:14.152270Z",
          "iopub.execute_input": "2023-06-05T23:03:14.152981Z",
          "iopub.status.idle": "2023-06-06T01:06:17.964451Z",
          "shell.execute_reply.started": "2023-06-05T23:03:14.152948Z",
          "shell.execute_reply": "2023-06-06T01:06:17.963195Z"
        },
        "trusted": true
      },
      "execution_count": null,
      "outputs": [
        {
          "name": "stdout",
          "text": "simulating training for different learning rates... this may take a few moments...\nEpoch 1/6\n2758/2758 [==============================] - 1492s 534ms/step - loss: 0.4716 - accuracy: 0.8029\nEpoch 2/6\n2758/2758 [==============================] - 1484s 538ms/step - loss: 0.2367 - accuracy: 0.9075\nEpoch 3/6\n2758/2758 [==============================] - 1481s 537ms/step - loss: 0.3956 - accuracy: 0.7787\nEpoch 4/6\n2758/2758 [==============================] - 1481s 537ms/step - loss: 0.6943 - accuracy: 0.5026\nEpoch 5/6\n2758/2758 [==============================] - 1443s 523ms/step - loss: 336.9737 - accuracy: 0.5002\n\n\ndone.\nPlease invoke the Learner.lr_plot() method to visually inspect the loss plot to help identify the maximal learning rate associated with falling loss.\n",
          "output_type": "stream"
        }
      ]
    },
    {
      "cell_type": "code",
      "source": [
        "# plot the learning rate\n",
        "learner1.lr_plot()"
      ],
      "metadata": {
        "id": "xO5quriuQ80x",
        "colab": {
          "base_uri": "https://localhost:8080/",
          "height": 459
        },
        "outputId": "0e2fd74e-e490-4854-bc53-3ad2785e37a0",
        "execution": {
          "iopub.status.busy": "2023-06-06T01:06:17.966869Z",
          "iopub.execute_input": "2023-06-06T01:06:17.967528Z",
          "iopub.status.idle": "2023-06-06T01:06:18.732442Z",
          "shell.execute_reply.started": "2023-06-06T01:06:17.967487Z",
          "shell.execute_reply": "2023-06-06T01:06:18.731251Z"
        },
        "trusted": true
      },
      "execution_count": null,
      "outputs": [
        {
          "output_type": "display_data",
          "data": {
            "text/plain": "<Figure size 640x480 with 1 Axes>",
            "image/png": "[encoded data removed]"
          },
          "metadata": {}
        }
      ]
    },
    {
      "cell_type": "markdown",
      "source": [
        "We can observe that the classifier provides minimal loss when the learning rate is 1e-4. Now, we use the tuned learner to train the best model.\n",
        "\n",
        "Here, we define a limit of 10 epochs, but in reality, this should stop much sooner due to early stopping."
      ],
      "metadata": {
        "id": "pKUljsZ5YTtQ"
      }
    },
    {
      "cell_type": "code",
      "source": [
        "# train best model based on the tuned learner\n",
        "history1=learner1.autofit(\n",
        "    1e-4,\n",
        "    checkpoint_folder='checkpoint',\n",
        "    epochs=10,\n",
        "    early_stopping=True\n",
        ")"
      ],
      "metadata": {
        "id": "HX274hDU0j8R",
        "colab": {
          "base_uri": "https://localhost:8080/"
        },
        "outputId": "005c664f-cfff-45de-de8d-494fae621bba",
        "execution": {
          "iopub.status.busy": "2023-06-06T01:16:58.763174Z",
          "iopub.execute_input": "2023-06-06T01:16:58.763842Z",
          "iopub.status.idle": "2023-06-06T02:07:07.418357Z",
          "shell.execute_reply.started": "2023-06-06T01:16:58.763808Z",
          "shell.execute_reply": "2023-06-06T02:07:07.417075Z"
        },
        "trusted": true
      },
      "execution_count": null,
      "outputs": [
        {
          "name": "stdout",
          "text": "\n\nbegin training using triangular learning rate policy with max lr of 0.0001...\nEpoch 1/10\n2759/2759 [==============================] - 1512s 545ms/step - loss: 0.1964 - accuracy: 0.9259 - val_loss: 0.2014 - val_accuracy: 0.9211\nEpoch 2/10\n2759/2759 [==============================] - ETA: 0s - loss: 0.1293 - accuracy: 0.9545Restoring model weights from the end of the best epoch: 1.\n2759/2759 [==============================] - 1496s 542ms/step - loss: 0.1293 - accuracy: 0.9545 - val_loss: 0.2315 - val_accuracy: 0.9170\nEpoch 2: early stopping\nWeights from best epoch have been loaded into model.\n",
          "output_type": "stream"
        }
      ]
    },
    {
      "cell_type": "markdown",
      "source": [
        "### Get the predictor"
      ],
      "metadata": {
        "id": "zOIwao0SpMsd"
      }
    },
    {
      "cell_type": "code",
      "source": [
        "predictor1 = ktrain.get_predictor(learner1.model, preproc=preprocess1)"
      ],
      "metadata": {
        "id": "ti1VfWebw-a3",
        "execution": {
          "iopub.status.busy": "2023-06-06T02:07:07.420906Z",
          "iopub.execute_input": "2023-06-06T02:07:07.421400Z",
          "iopub.status.idle": "2023-06-06T02:07:07.426955Z",
          "shell.execute_reply.started": "2023-06-06T02:07:07.421362Z",
          "shell.execute_reply": "2023-06-06T02:07:07.425641Z"
        },
        "trusted": true
      },
      "execution_count": null,
      "outputs": []
    },
    {
      "cell_type": "code",
      "source": [
        "#predictor.save(\"drive/MyDrive/MSDSTextClassification_Lab2.healthy_living\")"
      ],
      "metadata": {
        "id": "EqUostfKpStB",
        "execution": {
          "iopub.status.busy": "2023-06-06T02:07:07.428778Z",
          "iopub.execute_input": "2023-06-06T02:07:07.429119Z",
          "iopub.status.idle": "2023-06-06T02:07:07.444225Z",
          "shell.execute_reply.started": "2023-06-06T02:07:07.429088Z",
          "shell.execute_reply": "2023-06-06T02:07:07.443208Z"
        },
        "trusted": true
      },
      "execution_count": null,
      "outputs": []
    },
    {
      "cell_type": "code",
      "source": [
        "validation1 = learner1.validate(val_data=val1, print_report=True)"
      ],
      "metadata": {
        "id": "sv5DoNl-Ra8T",
        "colab": {
          "base_uri": "https://localhost:8080/"
        },
        "outputId": "9712e87d-87df-4f79-c28e-756439da60f1",
        "execution": {
          "iopub.status.busy": "2023-06-06T02:07:07.446662Z",
          "iopub.execute_input": "2023-06-06T02:07:07.447097Z",
          "iopub.status.idle": "2023-06-06T02:07:32.555622Z",
          "shell.execute_reply.started": "2023-06-06T02:07:07.447064Z",
          "shell.execute_reply": "2023-06-06T02:07:32.554360Z"
        },
        "trusted": true
      },
      "execution_count": null,
      "outputs": [
        {
          "name": "stdout",
          "text": "154/154 [==============================] - 25s 151ms/step\n              precision    recall  f1-score   support\n\n           0       0.93      0.91      0.92      2474\n           1       0.91      0.93      0.92      2431\n\n    accuracy                           0.92      4905\n   macro avg       0.92      0.92      0.92      4905\nweighted avg       0.92      0.92      0.92      4905\n\n",
          "output_type": "stream"
        }
      ]
    },
    {
      "cell_type": "markdown",
      "source": [
        "---\n",
        "\n",
        "### From the result above:\n",
        "\n",
        " 1. precision for non healthy living - wellness articles: 0.93\n",
        " 2. recall for non healthy living - wellness articles: 0.91\n",
        " 3. precision for healthy living - wellness articles: 0.91\n",
        " 4. recall for healthy living - wellness articles: 0.93\n",
        " 5. overall accuracy: 0.92\n",
        "\n",
        " ---\n"
      ],
      "metadata": {
        "id": "9G39ncMXqOKs"
      }
    },
    {
      "cell_type": "markdown",
      "source": [
        "# Tune parameter\n",
        "\n",
        "## Model 2"
      ],
      "metadata": {
        "id": "LzAi1p4x6Neh"
      }
    },
    {
      "cell_type": "markdown",
      "source": [
        "Now, in order to save resources and reduce runtime, we will tune the previous model by decreasing max_feature to 10,000 and maxlen to 256. Let's evaluate how well the model performs with this configuration."
      ],
      "metadata": {
        "id": "YjxZ6wmgB13P"
      }
    },
    {
      "cell_type": "code",
      "source": [
        "# convert text data into features for distilbert model\n",
        "train2, val2, preprocess2 = ktrain.text.texts_from_df(\n",
        "    review_sample,\n",
        "    \"combined_text\",\n",
        "    label_columns=[\"healthy_wellness\"],\n",
        "    val_df=None,\n",
        "    max_features=10000,\n",
        "    maxlen=256,\n",
        "    val_pct=0.1,\n",
        "    ngram_range=1,\n",
        "    preprocess_mode=\"distilbert\",\n",
        "    verbose=1\n",
        ")"
      ],
      "metadata": {
        "colab": {
          "base_uri": "https://localhost:8080/",
          "height": 486
        },
        "id": "sR5I_NZ36MTZ",
        "outputId": "70295602-2a02-4a7d-cc34-00a33a2f64d5",
        "execution": {
          "iopub.status.busy": "2023-06-06T02:07:32.557318Z",
          "iopub.execute_input": "2023-06-06T02:07:32.557664Z",
          "iopub.status.idle": "2023-06-06T02:07:51.318701Z",
          "shell.execute_reply.started": "2023-06-06T02:07:32.557632Z",
          "shell.execute_reply": "2023-06-06T02:07:51.317620Z"
        },
        "trusted": true
      },
      "execution_count": null,
      "outputs": [
        {
          "name": "stdout",
          "text": "['not_healthy_wellness', 'healthy_wellness']\n        not_healthy_wellness  healthy_wellness\n139417                   0.0               1.0\n29116                    0.0               1.0\n143292                   0.0               1.0\n120377                   1.0               0.0\n107917                   0.0               1.0\n['not_healthy_wellness', 'healthy_wellness']\n        not_healthy_wellness  healthy_wellness\n188463                   0.0               1.0\n137701                   0.0               1.0\n82157                    1.0               0.0\n63470                    0.0               1.0\n192111                   0.0               1.0\npreprocessing train...\nlanguage: en\ntrain sequence lengths:\n\tmean : 32\n\t95percentile : 58\n\t99percentile : 68\n",
          "output_type": "stream"
        },
        {
          "output_type": "display_data",
          "data": {
            "text/plain": "<IPython.core.display.HTML object>",
            "text/html": "\n<style>\n    /* Turns off some styling */\n    progress {\n        /* gets rid of default border in Firefox and Opera. */\n        border: none;\n        /* Needs to be in here for Safari polyfill so background images work as expected. */\n        background-size: auto;\n    }\n    progress:not([value]), progress:not([value])::-webkit-progress-bar {\n        background: repeating-linear-gradient(45deg, #7e7e7e, #7e7e7e 10px, #5c5c5c 10px, #5c5c5c 20px);\n    }\n    .progress-bar-interrupted, .progress-bar-interrupted::-webkit-progress-bar {\n        background: #F44336;\n    }\n</style>\n"
          },
          "metadata": {}
        },
        {
          "output_type": "display_data",
          "data": {
            "text/plain": "<IPython.core.display.HTML object>",
            "text/html": ""
          },
          "metadata": {}
        },
        {
          "name": "stdout",
          "text": "Is Multi-Label? False\npreprocessing test...\nlanguage: en\ntest sequence lengths:\n\tmean : 33\n\t95percentile : 58\n\t99percentile : 69\n",
          "output_type": "stream"
        },
        {
          "output_type": "display_data",
          "data": {
            "text/plain": "<IPython.core.display.HTML object>",
            "text/html": "\n<style>\n    /* Turns off some styling */\n    progress {\n        /* gets rid of default border in Firefox and Opera. */\n        border: none;\n        /* Needs to be in here for Safari polyfill so background images work as expected. */\n        background-size: auto;\n    }\n    progress:not([value]), progress:not([value])::-webkit-progress-bar {\n        background: repeating-linear-gradient(45deg, #7e7e7e, #7e7e7e 10px, #5c5c5c 10px, #5c5c5c 20px);\n    }\n    .progress-bar-interrupted, .progress-bar-interrupted::-webkit-progress-bar {\n        background: #F44336;\n    }\n</style>\n"
          },
          "metadata": {}
        },
        {
          "output_type": "display_data",
          "data": {
            "text/plain": "<IPython.core.display.HTML object>",
            "text/html": ""
          },
          "metadata": {}
        }
      ]
    },
    {
      "cell_type": "code",
      "source": [
        "# load distilbert in a learner object\n",
        "model2 = preprocess2.get_classifier()\n",
        "learner2 = ktrain.get_learner(model2, train_data=train2, val_data=val2, batch_size=16)"
      ],
      "metadata": {
        "id": "8JPglv3A6Mrq",
        "execution": {
          "iopub.status.busy": "2023-06-06T02:07:51.320699Z",
          "iopub.execute_input": "2023-06-06T02:07:51.321132Z",
          "iopub.status.idle": "2023-06-06T02:07:53.146617Z",
          "shell.execute_reply.started": "2023-06-06T02:07:51.321094Z",
          "shell.execute_reply": "2023-06-06T02:07:53.145427Z"
        },
        "trusted": true
      },
      "execution_count": null,
      "outputs": []
    },
    {
      "cell_type": "code",
      "source": [
        "# find the optimal learning rate\n",
        "learner2.lr_find(max_epochs=6)"
      ],
      "metadata": {
        "colab": {
          "base_uri": "https://localhost:8080/"
        },
        "id": "taLORR6a6MwH",
        "outputId": "7b760358-fb95-46e9-f5cb-24e805f0b9f5",
        "execution": {
          "iopub.status.busy": "2023-06-06T02:07:53.148071Z",
          "iopub.execute_input": "2023-06-06T02:07:53.148858Z",
          "iopub.status.idle": "2023-06-06T03:19:27.720200Z",
          "shell.execute_reply.started": "2023-06-06T02:07:53.148822Z",
          "shell.execute_reply": "2023-06-06T03:19:27.719110Z"
        },
        "trusted": true
      },
      "execution_count": null,
      "outputs": [
        {
          "name": "stdout",
          "text": "simulating training for different learning rates... this may take a few moments...\nEpoch 1/6\n2758/2758 [==============================] - 725s 256ms/step - loss: 0.4669 - accuracy: 0.8061\nEpoch 2/6\n2758/2758 [==============================] - 715s 259ms/step - loss: 0.2390 - accuracy: 0.9066\nEpoch 3/6\n2758/2758 [==============================] - 714s 259ms/step - loss: 0.4135 - accuracy: 0.7588\nEpoch 4/6\n2758/2758 [==============================] - 714s 259ms/step - loss: 0.7261 - accuracy: 0.5012\nEpoch 5/6\n2758/2758 [==============================] - 714s 259ms/step - loss: 0.7020 - accuracy: 0.4964\nEpoch 6/6\n2758/2758 [==============================] - 666s 242ms/step - loss: 0.8109 - accuracy: 0.4990\n\n\ndone.\nPlease invoke the Learner.lr_plot() method to visually inspect the loss plot to help identify the maximal learning rate associated with falling loss.\n",
          "output_type": "stream"
        }
      ]
    },
    {
      "cell_type": "code",
      "source": [
        "# plot the learning rate\n",
        "learner2.lr_plot()"
      ],
      "metadata": {
        "id": "01BNSVrQ6My9",
        "execution": {
          "iopub.status.busy": "2023-06-06T03:19:27.723002Z",
          "iopub.execute_input": "2023-06-06T03:19:27.723888Z",
          "iopub.status.idle": "2023-06-06T03:19:28.039159Z",
          "shell.execute_reply.started": "2023-06-06T03:19:27.723848Z",
          "shell.execute_reply": "2023-06-06T03:19:28.038074Z"
        },
        "trusted": true,
        "outputId": "d1f03a2b-dc1e-48ad-bd60-f450dfe9da25"
      },
      "execution_count": null,
      "outputs": [
        {
          "output_type": "display_data",
          "data": {
            "text/plain": "<Figure size 640x480 with 1 Axes>",
            "image/png": "[encoded data removed]"
          },
          "metadata": {}
        }
      ]
    },
    {
      "cell_type": "code",
      "source": [
        "# train the best model based on the tuned learner\n",
        "history2=learner2.autofit(\n",
        "    1e-4,\n",
        "    checkpoint_folder='checkpoint',\n",
        "    epochs=10,\n",
        "    early_stopping=True\n",
        ")"
      ],
      "metadata": {
        "id": "i70i0M2z6M2M",
        "execution": {
          "iopub.status.busy": "2023-06-06T03:19:28.041454Z",
          "iopub.execute_input": "2023-06-06T03:19:28.042174Z",
          "iopub.status.idle": "2023-06-06T03:44:10.406457Z",
          "shell.execute_reply.started": "2023-06-06T03:19:28.042134Z",
          "shell.execute_reply": "2023-06-06T03:44:10.405297Z"
        },
        "trusted": true,
        "outputId": "4e8c6569-e65c-4153-eb0c-07470ec6ba6c"
      },
      "execution_count": null,
      "outputs": [
        {
          "name": "stdout",
          "text": "\n\nbegin training using triangular learning rate policy with max lr of 0.0001...\nEpoch 1/10\n2759/2759 [==============================] - 752s 266ms/step - loss: 0.2503 - accuracy: 0.9024 - val_loss: 0.1975 - val_accuracy: 0.9242\nEpoch 2/10\n2759/2759 [==============================] - ETA: 0s - loss: 0.1514 - accuracy: 0.9450Restoring model weights from the end of the best epoch: 1.\n2759/2759 [==============================] - 730s 265ms/step - loss: 0.1514 - accuracy: 0.9450 - val_loss: 0.2065 - val_accuracy: 0.9233\nEpoch 2: early stopping\nWeights from best epoch have been loaded into model.\n",
          "output_type": "stream"
        }
      ]
    },
    {
      "cell_type": "markdown",
      "source": [
        "### Get the predictor"
      ],
      "metadata": {
        "id": "ZyUGNHeQbvYu"
      }
    },
    {
      "cell_type": "code",
      "source": [
        "predictor2 = ktrain.get_predictor(learner2.model, preproc=preprocess2)"
      ],
      "metadata": {
        "id": "u2MeLAXP6M5w",
        "execution": {
          "iopub.status.busy": "2023-06-06T03:44:10.408208Z",
          "iopub.execute_input": "2023-06-06T03:44:10.409218Z",
          "iopub.status.idle": "2023-06-06T03:44:10.414876Z",
          "shell.execute_reply.started": "2023-06-06T03:44:10.409178Z",
          "shell.execute_reply": "2023-06-06T03:44:10.413854Z"
        },
        "trusted": true
      },
      "execution_count": null,
      "outputs": []
    },
    {
      "cell_type": "code",
      "source": [
        "validation2 = learner2.validate(val_data=val2, print_report=True)"
      ],
      "metadata": {
        "id": "9zJ98CAB6M_2",
        "execution": {
          "iopub.status.busy": "2023-06-06T03:44:10.416650Z",
          "iopub.execute_input": "2023-06-06T03:44:10.417258Z",
          "iopub.status.idle": "2023-06-06T03:44:33.901573Z",
          "shell.execute_reply.started": "2023-06-06T03:44:10.417203Z",
          "shell.execute_reply": "2023-06-06T03:44:33.900079Z"
        },
        "trusted": true,
        "outputId": "72781bd4-5045-4568-e5eb-6033847c31be"
      },
      "execution_count": null,
      "outputs": [
        {
          "name": "stdout",
          "text": "154/154 [==============================] - 23s 141ms/step\n              precision    recall  f1-score   support\n\n           0       0.94      0.91      0.92      2457\n           1       0.91      0.94      0.93      2448\n\n    accuracy                           0.92      4905\n   macro avg       0.92      0.92      0.92      4905\nweighted avg       0.92      0.92      0.92      4905\n\n",
          "output_type": "stream"
        }
      ]
    },
    {
      "cell_type": "markdown",
      "source": [
        "---\n",
        "\n",
        "### From the result above:\n",
        "\n",
        " 1. precision for non healthy living - wellness articles: 0.94\n",
        " 2. recall for non healthy living - wellness articles: 0.91\n",
        " 3. precision for healthy living - wellness articles: 0.91\n",
        " 4. recall for healthy living - wellness articles: 0.94\n",
        " 5. overall accuracy: 0.92\n",
        "\n",
        " ---\n"
      ],
      "metadata": {
        "id": "o0OdJgtIDoAr"
      }
    },
    {
      "cell_type": "markdown",
      "source": [
        "## Model 3"
      ],
      "metadata": {
        "id": "hzVeRP3vPPEl"
      }
    },
    {
      "cell_type": "markdown",
      "source": [
        "Now, I would like to try a new transformer model called \"BERT\" to see if it brings any improvements to the model's performance."
      ],
      "metadata": {
        "id": "8nTO_bK1L0yd"
      }
    },
    {
      "cell_type": "code",
      "source": [
        "# convert text data into features for bert model\n",
        "train3, val3, preprocess3 = ktrain.text.texts_from_df(\n",
        "    review_sample,\n",
        "    \"combined_text\",\n",
        "    label_columns=[\"healthy_wellness\"],\n",
        "    val_df=None,\n",
        "    max_features=10000,\n",
        "    maxlen=256,\n",
        "    val_pct=0.1,\n",
        "    ngram_range=1,\n",
        "    preprocess_mode=\"bert\",\n",
        "    verbose=1\n",
        ")"
      ],
      "metadata": {
        "id": "2Yc_5q5MK3k2",
        "execution": {
          "iopub.status.busy": "2023-06-06T14:07:28.936349Z",
          "iopub.execute_input": "2023-06-06T14:07:28.938120Z",
          "iopub.status.idle": "2023-06-06T14:08:05.235195Z",
          "shell.execute_reply.started": "2023-06-06T14:07:28.938049Z",
          "shell.execute_reply": "2023-06-06T14:08:05.234147Z"
        },
        "trusted": true,
        "outputId": "9b27fc46-3cb4-49e5-9686-c21293a8ff5f"
      },
      "execution_count": null,
      "outputs": [
        {
          "name": "stdout",
          "text": "['not_healthy_wellness', 'healthy_wellness']\n        not_healthy_wellness  healthy_wellness\n106888                   0.0               1.0\n23777                    0.0               1.0\n53805                    1.0               0.0\n76773                    1.0               0.0\n144582                   1.0               0.0\n['not_healthy_wellness', 'healthy_wellness']\n        not_healthy_wellness  healthy_wellness\n32890                    1.0               0.0\n169512                   0.0               1.0\n21078                    1.0               0.0\n153295                   0.0               1.0\n188375                   1.0               0.0\npreprocessing train...\nlanguage: en\n",
          "output_type": "stream"
        },
        {
          "output_type": "display_data",
          "data": {
            "text/plain": "<IPython.core.display.HTML object>",
            "text/html": "\n<style>\n    /* Turns off some styling */\n    progress {\n        /* gets rid of default border in Firefox and Opera. */\n        border: none;\n        /* Needs to be in here for Safari polyfill so background images work as expected. */\n        background-size: auto;\n    }\n    progress:not([value]), progress:not([value])::-webkit-progress-bar {\n        background: repeating-linear-gradient(45deg, #7e7e7e, #7e7e7e 10px, #5c5c5c 10px, #5c5c5c 20px);\n    }\n    .progress-bar-interrupted, .progress-bar-interrupted::-webkit-progress-bar {\n        background: #F44336;\n    }\n</style>\n"
          },
          "metadata": {}
        },
        {
          "output_type": "display_data",
          "data": {
            "text/plain": "<IPython.core.display.HTML object>",
            "text/html": "done."
          },
          "metadata": {}
        },
        {
          "name": "stdout",
          "text": "Is Multi-Label? False\npreprocessing test...\nlanguage: en\n",
          "output_type": "stream"
        },
        {
          "output_type": "display_data",
          "data": {
            "text/plain": "<IPython.core.display.HTML object>",
            "text/html": "\n<style>\n    /* Turns off some styling */\n    progress {\n        /* gets rid of default border in Firefox and Opera. */\n        border: none;\n        /* Needs to be in here for Safari polyfill so background images work as expected. */\n        background-size: auto;\n    }\n    progress:not([value]), progress:not([value])::-webkit-progress-bar {\n        background: repeating-linear-gradient(45deg, #7e7e7e, #7e7e7e 10px, #5c5c5c 10px, #5c5c5c 20px);\n    }\n    .progress-bar-interrupted, .progress-bar-interrupted::-webkit-progress-bar {\n        background: #F44336;\n    }\n</style>\n"
          },
          "metadata": {}
        },
        {
          "output_type": "display_data",
          "data": {
            "text/plain": "<IPython.core.display.HTML object>",
            "text/html": "done."
          },
          "metadata": {}
        }
      ]
    },
    {
      "cell_type": "code",
      "source": [
        "import random\n",
        "random.seed(20191120) "
      ],
      "metadata": {
        "execution": {
          "iopub.status.busy": "2023-06-06T14:08:17.190437Z",
          "iopub.execute_input": "2023-06-06T14:08:17.190808Z",
          "iopub.status.idle": "2023-06-06T14:08:17.195868Z",
          "shell.execute_reply.started": "2023-06-06T14:08:17.190779Z",
          "shell.execute_reply": "2023-06-06T14:08:17.194652Z"
        },
        "trusted": true,
        "id": "J12zI8lc-rlU"
      },
      "execution_count": null,
      "outputs": []
    },
    {
      "cell_type": "code",
      "source": [
        "# load bert in a learner object\n",
        "model3 = ktrain.text.text_classifier(\"bert\", train_data=train3, preproc=preprocess3)\n",
        "learner3 = ktrain.get_learner(model3, train_data=train3, val_data=val3, batch_size=16)"
      ],
      "metadata": {
        "id": "GRWxLpttK3qB",
        "execution": {
          "iopub.status.busy": "2023-06-06T14:08:17.881399Z",
          "iopub.execute_input": "2023-06-06T14:08:17.881764Z",
          "iopub.status.idle": "2023-06-06T14:08:23.089064Z",
          "shell.execute_reply.started": "2023-06-06T14:08:17.881735Z",
          "shell.execute_reply": "2023-06-06T14:08:23.087969Z"
        },
        "trusted": true,
        "outputId": "5ffdd0f4-6d9a-427f-ad2c-1a552520fb1f"
      },
      "execution_count": null,
      "outputs": [
        {
          "name": "stdout",
          "text": "Is Multi-Label? False\nmaxlen is 256\ndone.\n",
          "output_type": "stream"
        }
      ]
    },
    {
      "cell_type": "code",
      "source": [
        "# find the optimal learning rate \n",
        "learner3.lr_find(max_epochs=6)"
      ],
      "metadata": {
        "id": "o_4LRRO_OGD5",
        "execution": {
          "iopub.status.busy": "2023-06-06T14:08:25.410054Z",
          "iopub.execute_input": "2023-06-06T14:08:25.410457Z",
          "iopub.status.idle": "2023-06-06T16:17:49.802043Z",
          "shell.execute_reply.started": "2023-06-06T14:08:25.410425Z",
          "shell.execute_reply": "2023-06-06T16:17:49.801033Z"
        },
        "trusted": true,
        "outputId": "b58d406a-b260-451e-cd40-ec690b194384"
      },
      "execution_count": null,
      "outputs": [
        {
          "name": "stdout",
          "text": "simulating training for different learning rates... this may take a few moments...\nEpoch 1/6\n2759/2759 [==============================] - 2562s 911ms/step - loss: 0.4502 - accuracy: 0.7871\nEpoch 2/6\n2759/2759 [==============================] - 2512s 911ms/step - loss: 0.2285 - accuracy: 0.9105\nEpoch 3/6\n2759/2759 [==============================] - 2508s 909ms/step - loss: 0.4951 - accuracy: 0.6919\nEpoch 4/6\n2759/2759 [==============================] - 145s 52ms/step - loss: 0.7837 - accuracy: 0.5031\n\n\ndone.\nPlease invoke the Learner.lr_plot() method to visually inspect the loss plot to help identify the maximal learning rate associated with falling loss.\n",
          "output_type": "stream"
        }
      ]
    },
    {
      "cell_type": "code",
      "source": [
        "# plot the learning rate\n",
        "learner3.lr_plot()"
      ],
      "metadata": {
        "id": "kE0nvjYOOGHG",
        "execution": {
          "iopub.status.busy": "2023-06-06T16:37:16.464253Z",
          "iopub.execute_input": "2023-06-06T16:37:16.464677Z",
          "iopub.status.idle": "2023-06-06T16:37:17.130882Z",
          "shell.execute_reply.started": "2023-06-06T16:37:16.464645Z",
          "shell.execute_reply": "2023-06-06T16:37:17.129854Z"
        },
        "trusted": true,
        "outputId": "f51d7fdf-f5c4-41c1-e1a0-7e999491acff"
      },
      "execution_count": null,
      "outputs": [
        {
          "output_type": "display_data",
          "data": {
            "text/plain": "<Figure size 640x480 with 1 Axes>",
            "image/png": "[encoded data removed]"
          },
          "metadata": {}
        }
      ]
    },
    {
      "cell_type": "markdown",
      "source": [
        "We can observe that the classifier provides minimal loss when the learning rate is 1e-4. Now, we use the tuned learner to train the best model.\n",
        "\n",
        "Here, we define a limit of 10 epochs, but in reality, this should stop much sooner due to early stopping."
      ],
      "metadata": {
        "id": "7PDrk9HubKF6"
      }
    },
    {
      "cell_type": "code",
      "source": [
        "# train the best model based on the tuned learner\n",
        "history3=learner3.autofit(\n",
        "    1e-4,\n",
        "    checkpoint_folder='checkpoint',\n",
        "    epochs=10,\n",
        "    early_stopping=True\n",
        ")"
      ],
      "metadata": {
        "execution": {
          "iopub.status.busy": "2023-06-06T16:37:23.040122Z",
          "iopub.execute_input": "2023-06-06T16:37:23.040501Z",
          "iopub.status.idle": "2023-06-06T18:05:26.782300Z",
          "shell.execute_reply.started": "2023-06-06T16:37:23.040470Z",
          "shell.execute_reply": "2023-06-06T18:05:26.781188Z"
        },
        "trusted": true,
        "id": "LUbS4wnX-rlV",
        "outputId": "d0c39333-b029-4096-fb0f-d1bdcff6d468"
      },
      "execution_count": null,
      "outputs": [
        {
          "name": "stdout",
          "text": "\n\nbegin training using triangular learning rate policy with max lr of 0.0001...\nEpoch 1/10\n2759/2759 [==============================] - 2627s 948ms/step - loss: 0.2507 - accuracy: 0.9002 - val_loss: 0.1969 - val_accuracy: 0.9231\nEpoch 2/10\n2759/2759 [==============================] - ETA: 0s - loss: 0.1587 - accuracy: 0.9409Restoring model weights from the end of the best epoch: 1.\n2759/2759 [==============================] - 2656s 963ms/step - loss: 0.1587 - accuracy: 0.9409 - val_loss: 0.2268 - val_accuracy: 0.9191\nEpoch 2: early stopping\nWeights from best epoch have been loaded into model.\n",
          "output_type": "stream"
        }
      ]
    },
    {
      "cell_type": "markdown",
      "source": [
        "### Get the predictor"
      ],
      "metadata": {
        "id": "UZCdTIQBbz0F"
      }
    },
    {
      "cell_type": "code",
      "source": [
        "predictor3 = ktrain.get_predictor(learner3.model, preproc=preprocess3)"
      ],
      "metadata": {
        "id": "WzZjcfmtOGQd",
        "execution": {
          "iopub.status.busy": "2023-06-06T18:27:03.901807Z",
          "iopub.execute_input": "2023-06-06T18:27:03.902665Z",
          "iopub.status.idle": "2023-06-06T18:27:03.908974Z",
          "shell.execute_reply.started": "2023-06-06T18:27:03.902632Z",
          "shell.execute_reply": "2023-06-06T18:27:03.908003Z"
        },
        "trusted": true
      },
      "execution_count": null,
      "outputs": []
    },
    {
      "cell_type": "code",
      "source": [
        "validation3 = learner3.validate(val_data=val3, print_report=True)"
      ],
      "metadata": {
        "id": "t9lRMjjsOGUs",
        "execution": {
          "iopub.status.busy": "2023-06-06T18:28:04.813138Z",
          "iopub.execute_input": "2023-06-06T18:28:04.814157Z",
          "iopub.status.idle": "2023-06-06T18:30:26.824090Z",
          "shell.execute_reply.started": "2023-06-06T18:28:04.814120Z",
          "shell.execute_reply": "2023-06-06T18:30:26.822898Z"
        },
        "trusted": true,
        "outputId": "e6f2a858-b93c-4316-cbee-d733e32321f9"
      },
      "execution_count": null,
      "outputs": [
        {
          "name": "stdout",
          "text": "154/154 [==============================] - 95s 617ms/step\n              precision    recall  f1-score   support\n\n           0       0.93      0.91      0.92      2406\n           1       0.91      0.94      0.93      2499\n\n    accuracy                           0.92      4905\n   macro avg       0.92      0.92      0.92      4905\nweighted avg       0.92      0.92      0.92      4905\n\n",
          "output_type": "stream"
        }
      ]
    },
    {
      "cell_type": "markdown",
      "source": [
        "---\n",
        "\n",
        "### From the result above:\n",
        "\n",
        " 1. precision for non healthy living - wellness articles: 0.93\n",
        " 2. recall for non healthy living - wellness articles: 0.91\n",
        " 3. precision for healthy living - wellness articles: 0.91\n",
        " 4. recall for healthy living - wellness articles: 0.94\n",
        " 5. overall accuracy: 0.92\n",
        "\n",
        " ---"
      ],
      "metadata": {
        "id": "SSSNNSI5PRgs"
      }
    },
    {
      "cell_type": "markdown",
      "source": [
        "# Conclusion"
      ],
      "metadata": {
        "id": "clD9AHtwPUbh"
      }
    },
    {
      "cell_type": "markdown",
      "source": [
        "The objective of this project is to classify articles as either related to healthy living or wellness. After comparing the performance of the three models discussed, we can conclude that:\n",
        "  + these three models have the same overall accuracy of 92% and we can see that this number is larger than the accuracy of 86% in Dr. Vargo's Benchmarks.\n",
        "  \n",
        "  + model 2, which utilized the \"distilbert-base-uncased\" transformer model with a maximum feature count of 10,000 and a maximum sequence length of 256, achieved the highest precision of 94% for non-healthy living or wellness articles and highest recall of 94% for healthy living or wellness articles.\n",
        "\n",
        "It's worth noting that due to limited resources and runtime constraints, the models were trained using a restricted approach. However, there are several potential avenues for improving model performance. For instance, experimenting with different transformer models and adjusting various parameters could yield better results. Exploring these alternatives could lead to enhanced classification capabilities and more accurate predictions."
      ],
      "metadata": {
        "id": "sD563rHpPewe"
      }
    },
    {
      "cell_type": "code",
      "source": [],
      "metadata": {
        "id": "DwVYGK3tPdqq"
      },
      "execution_count": null,
      "outputs": []
    }
  ]
}